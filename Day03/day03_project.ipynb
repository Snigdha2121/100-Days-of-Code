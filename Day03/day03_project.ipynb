{
  "nbformat": 4,
  "nbformat_minor": 0,
  "metadata": {
    "colab": {
      "provenance": []
    },
    "kernelspec": {
      "name": "python3",
      "display_name": "Python 3"
    },
    "language_info": {
      "name": "python"
    }
  },
  "cells": [
    {
      "cell_type": "markdown",
      "source": [
        "# **Day 3 Project: Treasure Island Adventure Game**\n",
        "\n",
        "## **Description**\n",
        "\n",
        "The \"Treasure Island\" game is an interactive text-based adventure where the player makes choices to navigate through various scenarios in search of a treasure. The game tests decision-making skills and provides different outcomes based on user input.\n",
        "\n",
        "### **How It Works**\n",
        "\n",
        "1. **Welcome Message:**\n",
        "   The game starts by greeting the player and outlining the mission to find the treasure.\n",
        "\n",
        "2. **Initial Choice:**\n",
        "   The player encounters a crossroads and must choose a direction: 'left' or 'right'.\n",
        "\n",
        "3. **Lake Scenario:**\n",
        "   If the player chooses 'left', they come to a lake with an island. They must decide to 'wait' for a boat or 'swim' across.\n",
        "\n",
        "4. **Island Choices:**\n",
        "   If the player decides to 'wait' and reaches the island, they find a house with three doors: red, yellow, and blue. They must choose one door.\n",
        "\n",
        "5. **Treasure Outcome:**\n",
        "   Based on the door choice:\n",
        "   - **Yellow Door:** The player finds the treasure and wins the game.\n",
        "   - **Red Door:** The player encounters a room full of fire and loses the game.\n",
        "   - **Blue Door:** The player faces a room of beasts and loses the game.\n",
        "   - **Invalid Choice:** The player chooses a non-existent door and loses the game.\n",
        "\n",
        "6. **Alternate Outcomes:**\n",
        "   If the player decides to 'swim' or chooses 'right', they encounter obstacles leading to a game over.\n",
        "\n",
        "### Summary\n",
        "\n",
        "The game uses nested `if` statements to create a branching narrative based on player choices, resulting in different scenarios and outcomes. This interactive adventure challenges the player to make strategic decisions to successfully find the treasure.\n"
      ],
      "metadata": {
        "id": "fg9lDD4gqIHd"
      }
    },
    {
      "cell_type": "code",
      "source": [
        "print(\"Welcome to Treasure Island.\")\n",
        "print(\"Your mission is to find the treasure.\")\n",
        "print(\"You are at a cross road. Where do you want to go? Type 'left' or 'right'\")\n",
        "choice1 = input()\n",
        "if(choice1 == 'left'):\n",
        "  print(\"You've come to a lake. There is an island in the middle of the lake. Type 'wait' to wait for a boat. Type 'swim' to swim across.\")\n",
        "  choice2 = input()\n",
        "  if(choice2 == 'wait'):\n",
        "    print(\"You arrive at the island unharmed. There is a house with 3 doors. One red, one yellow and one blue. Which colour do you choose?\")\n",
        "    choice3 = input()\n",
        "    if(choice3 == 'yellow'):\n",
        "      print(\"You found the treasure! You Win!\")\n",
        "    elif(choice3 == 'red'):\n",
        "      print(\"It's a room full of fire. Game Over.\")\n",
        "    elif(choice3 == 'blue'):\n",
        "      print(\"You enter a room of beasts. Game Over.\")\n",
        "    else:\n",
        "      print(\"You chose a door that doesn't exist. Game Over.\")\n",
        "  else:\n",
        "    print(\"You get attacked by an angry trout. Game Over.\")\n",
        "else:\n",
        "  print(\"You fell into a hole. Game Over.\")"
      ],
      "metadata": {
        "colab": {
          "base_uri": "https://localhost:8080/"
        },
        "id": "1DIwbvsloutr",
        "outputId": "b3bed20c-33f7-4c6f-f60b-2b2c2d1b0778"
      },
      "execution_count": 4,
      "outputs": [
        {
          "output_type": "stream",
          "name": "stdout",
          "text": [
            "Welcome to Treasure Island.\n",
            "Your mission is to find the treasure.\n",
            "You are at a cross road. Where do you want to go? Type 'left' or 'right'\n",
            "left\n",
            "You've come to a lake. There is an island in the middle of the lake. Type 'wait' to wait for a boat. Type 'swim' to swim across.\n",
            "wait\n",
            "You arrive at the island unharmed. There is a house with 3 doors. One red, one yellow and one blue. Which colour do you choose?\n",
            "yellow\n",
            "You found the treasure! You Win!\n"
          ]
        }
      ]
    },
    {
      "cell_type": "code",
      "source": [],
      "metadata": {
        "id": "mAwfzFgNp-8a"
      },
      "execution_count": null,
      "outputs": []
    }
  ]
}