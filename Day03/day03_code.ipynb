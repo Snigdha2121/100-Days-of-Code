{
  "nbformat": 4,
  "nbformat_minor": 0,
  "metadata": {
    "colab": {
      "provenance": []
    },
    "kernelspec": {
      "name": "python3",
      "display_name": "Python 3"
    },
    "language_info": {
      "name": "python"
    }
  },
  "cells": [
    {
      "cell_type": "markdown",
      "source": [
        "# **Day 3 - Control Flow and Logical Operators**"
      ],
      "metadata": {
        "id": "paaBWn3BZV8l"
      }
    },
    {
      "cell_type": "markdown",
      "source": [
        "# **Conditional Statements in Python**\n",
        "\n",
        "**What Are Conditional Statements?**\n",
        "\n",
        "Conditional statements allow you to control the flow of your program based on conditions. They let you execute specific blocks of code when certain conditions are met, enabling you to make decisions and handle different scenarios within your program.\n",
        "\n",
        "\n",
        "## Syntax of Conditional Statements\n",
        "The basic syntax for conditional statements is as follows:\n",
        "### `if` Statement\n",
        "\n",
        "The `if` statement allows you to execute a block of code if a specified condition is `True`.\n",
        "\n",
        "**Syntax:**\n",
        "\n",
        "```python\n",
        "if condition:\n",
        "    # code to execute if the condition is True\n",
        "```\n",
        "\n",
        "\n",
        "### `if-else` Statement\n",
        "\n",
        "The `if-else` statement allows you to execute one block of code if a condition is `True` and another block if the condition is `False`.\n",
        "\n",
        "**Syntax:**\n",
        "\n",
        "```python\n",
        "if condition:\n",
        "    # code to execute if the condition is True\n",
        "else:\n",
        "    # code to execute if the condition is False\n",
        "```\n",
        "\n",
        "### `if-elif-else` Statement\n",
        "\n",
        "\n",
        "The `if-elif-else` statement allows you to check multiple conditions sequentially and execute code blocks based on which condition is `True`.\n",
        "\n",
        "**Syntax:**\n",
        "\n",
        "```python\n",
        "if condition1:\n",
        "    # code to execute if condition1 is True\n",
        "elif condition2:\n",
        "    # code to execute if condition1 is False and condition2 is True\n",
        "else:\n",
        "    # code to execute if none of the above conditions are True\n",
        "```\n",
        "\n",
        "### Nested `if` Statement\n",
        "\n",
        "\n",
        "Nested `if` statements are used when you need to evaluate multiple conditions within another `if` statement.\n",
        "\n",
        "**Syntax:**\n",
        "\n",
        "```python\n",
        "if condition1:\n",
        "    if condition2:\n",
        "        # code to execute if both condition1 and condition2 are True\n",
        "    else:\n",
        "        # code to execute if condition1 is True and condition2 is False\n",
        "else:\n",
        "    # code to execute if condition1 is False\n",
        "\n",
        "```\n",
        "\n",
        "### Multiple `if` Statements\n",
        "\n",
        "In Python, multiple `if` statements are used when you want to check more than one condition independently. Each `if` statement is evaluated separately, and the code blocks associated with each condition will execute if their respective conditions are `True`.\n",
        "\n",
        "### **Syntax**\n",
        "\n",
        "```python\n",
        "if condition1:\n",
        "    # code to execute if condition1 is True\n",
        "\n",
        "if condition2:\n",
        "    # code to execute if condition2 is True\n",
        "\n",
        "if condition3:\n",
        "    # code to execute if condition3 is True\n",
        "```\n",
        "\n",
        "\n",
        "# Comparison Operators\n",
        "Comparison operators are used to compare values in conditional statements:\n",
        "\n",
        "\n",
        "- `==` : Equal to\n",
        "- `!=` : Not equal to\n",
        "- `>`  : Greater than\n",
        "- `<`  : Less than\n",
        "- `>=` : Greater than or equal to\n",
        "- `<=` : Less than or equal to"
      ],
      "metadata": {
        "id": "4KIrfVXKpYXg"
      }
    },
    {
      "cell_type": "code",
      "source": [
        "# Example 1: if Statement\n",
        "age = int(input(\"Enter your age: \"))\n",
        "if age >= 18:\n",
        "    print(\"You are eligible to vote.\")"
      ],
      "metadata": {
        "colab": {
          "base_uri": "https://localhost:8080/"
        },
        "id": "sJj1f84ktRhf",
        "outputId": "0b7d352b-1bca-472d-ae88-c971dcb2ac62"
      },
      "execution_count": null,
      "outputs": [
        {
          "name": "stdout",
          "output_type": "stream",
          "text": [
            "Enter your age: 9\n"
          ]
        }
      ]
    },
    {
      "cell_type": "code",
      "source": [
        "# Example 2: if-else Statement\n",
        "age = int(input(\"Enter your age: \"))\n",
        "if age >= 18:\n",
        "    print(\"You are eligible to vote.\")\n",
        "else:\n",
        "    print(\"You are not eligible to vote.\")"
      ],
      "metadata": {
        "colab": {
          "base_uri": "https://localhost:8080/"
        },
        "id": "lWulL4fEvlY8",
        "outputId": "add9d68a-be84-4f71-e757-9507d44d7644"
      },
      "execution_count": null,
      "outputs": [
        {
          "output_type": "stream",
          "name": "stdout",
          "text": [
            "Enter your age: 12\n",
            "You are not eligible to vote.\n"
          ]
        }
      ]
    },
    {
      "cell_type": "code",
      "source": [
        "# Example 3: if-elif-else Statement\n",
        "score = int(input(\"Enter your score: \"))\n",
        "if score >= 90:\n",
        "  print(\"Grade A\")\n",
        "elif score >=80:\n",
        "  print(\"Grade B\")\n",
        "elif score >=70:\n",
        "  print(\"Grade C\")\n",
        "elif score >=60:\n",
        "  print(\"Grade D\")\n",
        "else:\n",
        "  print(\"Grade F\")"
      ],
      "metadata": {
        "colab": {
          "base_uri": "https://localhost:8080/"
        },
        "id": "JW4VEzugv27w",
        "outputId": "2c226933-5e01-4ebc-d706-231eed0b654e"
      },
      "execution_count": null,
      "outputs": [
        {
          "output_type": "stream",
          "name": "stdout",
          "text": [
            "Enter your score: 89\n",
            "Grade B\n"
          ]
        }
      ]
    },
    {
      "cell_type": "code",
      "source": [
        "# Example 4: Nested if Statement\n",
        "age = int(input(\"Enter your age: \"))\n",
        "height = int(input(\"Enter your height in inches: \"))\n",
        "if age >= 18:\n",
        "    if height >= 60:\n",
        "        print(\"You are eligible to ride the roller coaster.\")\n",
        "    else:\n",
        "        print(\"You need to grow taller to ride the roller coaster.\")\n",
        "else:\n",
        "  print(\"You need to be at least 18 years old to ride the roller coaster.\")"
      ],
      "metadata": {
        "id": "gRFKs1oQwOPa",
        "colab": {
          "base_uri": "https://localhost:8080/"
        },
        "outputId": "9574c563-dd38-4eba-cf15-f9e215249d6a"
      },
      "execution_count": 2,
      "outputs": [
        {
          "output_type": "stream",
          "name": "stdout",
          "text": [
            "Enter your age: 34\n",
            "Enter your height in inches: 78\n",
            "You are eligible to ride the roller coaster.\n"
          ]
        }
      ]
    },
    {
      "cell_type": "code",
      "source": [
        "# Example 5: Multiple if Statement\n",
        "print(\"TICKET PRICE:\\nRs. 50 if you are 18 or above\\nRs. 30 if you are below 18 and above 12\\nRs. 20 extra for photo ticket\")\n",
        "age= int(input(\"Enter your age: \"))\n",
        "height = int(input(\"Enter your height in inches: \"))\n",
        "if height >=60:\n",
        "  if age >=18:\n",
        "    print(\"Do you want a photo ticket? Y/N\")\n",
        "    ans= input()\n",
        "    if(ans=='Y'):\n",
        "      print(\"Your ticket price is Rs. 80\")\n",
        "    else:\n",
        "      print(\"Your ticket price is Rs. 50\")\n",
        "  elif age >=12:\n",
        "       print(\"Do you want a photo ticket? Y/N\")\n",
        "       ans1= input()\n",
        "       if(ans1=='Y'):\n",
        "        print(\"Your ticket price is Rs. 60\")\n",
        "       else:\n",
        "        print(\"Your ticket price is Rs. 30\")\n",
        "  else:\n",
        "    print(\"You are not eligible for a ride as you are underage\")\n",
        "else:\n",
        "  print(\"You need to grow taller for this ride\")"
      ],
      "metadata": {
        "id": "68-rLtyL-wtj",
        "colab": {
          "base_uri": "https://localhost:8080/"
        },
        "outputId": "809bcaea-e96f-451e-81bb-70dda6e9ed60"
      },
      "execution_count": 9,
      "outputs": [
        {
          "output_type": "stream",
          "name": "stdout",
          "text": [
            "TICKET PRICE:\n",
            "Rs. 50 if you are 18 or above\n",
            "Rs. 30 if you are below 18 and above 12\n",
            "Rs. 20 extra for photo ticket\n",
            "Enter your age: 13\n",
            "Enter your height in inches: 78\n",
            "Do you want a photo ticket? Y/N\n",
            "N\n",
            "Your ticket price is Rs. 30\n"
          ]
        }
      ]
    },
    {
      "cell_type": "markdown",
      "source": [
        "# **Logical Operators in Python**\n",
        "\n",
        "### `and` Operator\n",
        "\n",
        "The `and` operator returns `True` if both conditions being evaluated are `True`. If any of the conditions are `False`, the result will be `False`.\n",
        "\n",
        "**Syntax:**\n",
        "\n",
        "```python\n",
        "if condition1 and condition2:\n",
        "    # code to execute if both condition1 and condition2 are True\n",
        "```\n",
        "\n",
        "### `or` Operator\n",
        "The `or` operator returns `True` if at least one of the conditions being evaluated is `True`. It returns `False` only if all conditions are `False`.\n",
        "\n",
        "**Syntax:**\n",
        "\n",
        "```python\n",
        "if condition1 or condition2:\n",
        "    # code to execute if at least one of condition1 or condition2 is True\n",
        "```\n",
        "\n",
        "### `not` Operator\n",
        "The `not` operator inverts the boolean value of a condition. It returns `True` if the condition is `False`, and `False` if the condition is `True`.\n",
        "\n",
        "**Syntax:**\n",
        "\n",
        "```python\n",
        "if not condition:\n",
        "    # code to execute if condition is False\n",
        "```"
      ],
      "metadata": {
        "id": "iGVogLeRcwqq"
      }
    },
    {
      "cell_type": "code",
      "source": [
        "# and operator\n",
        "age = int(input(\"Enter your age: \"))\n",
        "height = int(input(\"Enter your height in inches: \"))\n",
        "if age >= 18 and height >= 60:\n",
        "    print(\"You are eligible to ride the roller coaster.\")\n",
        "else:\n",
        "  print(\"You are not eligible to ride the roller coaster.\")"
      ],
      "metadata": {
        "colab": {
          "base_uri": "https://localhost:8080/"
        },
        "id": "Gxphdp6haxu_",
        "outputId": "d1eedc34-be8b-4913-ae25-f7666f339048"
      },
      "execution_count": 11,
      "outputs": [
        {
          "output_type": "stream",
          "name": "stdout",
          "text": [
            "Enter your age: 18\n",
            "Enter your height in inches: 54\n",
            "You are not eligible to ride the roller coaster.\n"
          ]
        }
      ]
    },
    {
      "cell_type": "code",
      "source": [
        "# or operator\n",
        "age = int(input(\"Enter your age: \"))\n",
        "Height = int(input(\"Enter your height in inches: \"))\n",
        "if age >= 18 or Height >= 60:\n",
        "    print(\"You are eligible to ride the roller coaster.\")\n",
        "else:\n",
        "  print(\"You are not eligible to ride the roller coaster\")"
      ],
      "metadata": {
        "colab": {
          "base_uri": "https://localhost:8080/"
        },
        "id": "qWYAyHdDeq9c",
        "outputId": "818d0ca6-9167-4b2b-b9d4-38be062d11ec"
      },
      "execution_count": 14,
      "outputs": [
        {
          "output_type": "stream",
          "name": "stdout",
          "text": [
            "Enter your age: 12\n",
            "Enter your height in inches: 67\n",
            "You are eligible to ride the roller coaster.\n"
          ]
        }
      ]
    },
    {
      "cell_type": "code",
      "source": [
        "# not operator\n",
        "age = int(input(\"Enter your age: \"))\n",
        "height = int(input(\"Enter your height in inches: \"))\n",
        "if not (age >= 18 and height >= 60):\n",
        "    print(\"You are not eligible to ride the roller coaster.\")\n",
        "\n",
        "else:\n",
        "    print(\"You are eligible to ride the roller coaster.\")"
      ],
      "metadata": {
        "colab": {
          "base_uri": "https://localhost:8080/"
        },
        "id": "J0NVY70ffKqY",
        "outputId": "735abc7d-b365-4616-cf35-a3b22f628bad"
      },
      "execution_count": 18,
      "outputs": [
        {
          "output_type": "stream",
          "name": "stdout",
          "text": [
            "Enter your age: 18\n",
            "Enter your height in inches: 59\n",
            "You are not eligible to ride the roller coaster.\n"
          ]
        }
      ]
    },
    {
      "cell_type": "code",
      "source": [],
      "metadata": {
        "id": "z3XAWrYcfcSx"
      },
      "execution_count": null,
      "outputs": []
    }
  ]
}