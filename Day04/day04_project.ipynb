{
  "nbformat": 4,
  "nbformat_minor": 0,
  "metadata": {
    "colab": {
      "provenance": []
    },
    "kernelspec": {
      "name": "python3",
      "display_name": "Python 3"
    },
    "language_info": {
      "name": "python"
    }
  },
  "cells": [
    {
      "cell_type": "markdown",
      "source": [
        "## Rock, Paper, Scissors Game\n",
        "\n",
        "### Overview\n",
        "This Python code implements a classic Rock, Paper, Scissors game where the user competes against the computer. The computer's choice is randomly generated, and the game determines the outcome based on the user's input.\n",
        "\n",
        "### Code Explanation\n",
        "\n",
        "1. **Random Choice Generation**:\n",
        "   - The `random.randint(0, 2)` function generates a random integer between 0 and 2, inclusive. This integer determines the computer's choice:\n",
        "     - `0` represents \"Rock\".\n",
        "     - `1` represents \"Paper\".\n",
        "     - `2` represents \"Scissors\".\n",
        "\n",
        "2. **User Input**:\n",
        "   - The user is prompted to input their choice: \"Rock\", \"Paper\", or \"Scissors\". The input is converted to lowercase for case-insensitive comparison.\n",
        "\n",
        "3. **Outcome Determination**:\n",
        "   - The computer's choice and the user's choice are compared to determine the outcome of the game:\n",
        "     - **Rock**:\n",
        "       - If the computer chooses Rock and the user chooses Rock, the result is \"Draw\".\n",
        "       - If the computer chooses Rock and the user chooses Paper, the user wins.\n",
        "       - If the computer chooses Rock and the user chooses Scissors, the user loses.\n",
        "     - **Paper**:\n",
        "       - If the computer chooses Paper and the user chooses Rock, the user loses.\n",
        "       - If the computer chooses Paper and the user chooses Paper, the result is \"Draw\".\n",
        "       - If the computer chooses Paper and the user chooses Scissors, the user wins.\n",
        "     - **Scissors**:\n",
        "       - If the computer chooses Scissors and the user chooses Rock, the user wins.\n",
        "       - If the computer chooses Scissors and the user chooses Paper, the user loses.\n",
        "       - If the computer chooses Scissors and the user chooses Scissors, the result is \"Draw\".\n",
        "\n",
        "### Example Flow\n",
        "1. The computer generates a random choice between Rock, Paper, and Scissors (0, 1, or 2).\n",
        "2. The user inputs their choice.\n",
        "3. The program compares the computer's choice and the user's choice, and displays the outcome:\n",
        "   - \"You Win\", \"You Lose\", or \"Draw\".\n"
      ],
      "metadata": {
        "id": "c8fh4pV_aA8U"
      }
    },
    {
      "cell_type": "code",
      "execution_count": 4,
      "metadata": {
        "colab": {
          "base_uri": "https://localhost:8080/"
        },
        "id": "UyhB58htZ7vQ",
        "outputId": "2df2fa1e-c3aa-4899-e626-5c9961064ec8"
      },
      "outputs": [
        {
          "output_type": "stream",
          "name": "stdout",
          "text": [
            "Enter: Rock/Paper/Scissors: ROACK\n",
            "Scissors\n"
          ]
        }
      ],
      "source": [
        "import random\n",
        "random_choice = random.randint(0,2)\n",
        "choice= input(\"Enter: Rock/Paper/Scissors: \").lower()\n",
        "if(random_choice == 0):\n",
        "  print(\"Rock\")\n",
        "  if(choice == \"rock\"):\n",
        "    print(\"Draw\")\n",
        "  elif(choice == \"paper\"):\n",
        "    print(\"You Win\")\n",
        "  elif(choice == \"scissors\"):\n",
        "    print(\"You Lose\")\n",
        "\n",
        "elif(random_choice == 1):\n",
        "  print(\"Paper\")\n",
        "  if(choice == \"rock\"):\n",
        "    print(\"You Lose\")\n",
        "  elif(choice == \"paper\"):\n",
        "    print(\"Draw\")\n",
        "  elif(choice == \"scissors\"):\n",
        "    print(\"You Win\")\n",
        "\n",
        "elif(random_choice == 2):\n",
        "  print(\"Scissors\")\n",
        "  if(choice == \"rock\"):\n",
        "    print(\"You Win\")\n",
        "  elif(choice == \"paper\"):\n",
        "    print(\"You Lose\")\n",
        "  elif(choice == \"scissors\"):\n",
        "    print(\"Draw\")\n",
        "\n",
        "else:\n",
        "  print(\"Invalid Input\")"
      ]
    },
    {
      "cell_type": "code",
      "source": [],
      "metadata": {
        "id": "NPQHnuWFa-XV"
      },
      "execution_count": null,
      "outputs": []
    }
  ]
}