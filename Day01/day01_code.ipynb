{
  "nbformat": 4,
  "nbformat_minor": 0,
  "metadata": {
    "colab": {
      "provenance": [],
      "collapsed_sections": [
        "5S03Y11_1I08",
        "fG98lnS5VAKC",
        "DA2vp-ijXE-V"
      ]
    },
    "kernelspec": {
      "name": "python3",
      "display_name": "Python 3"
    },
    "language_info": {
      "name": "python"
    }
  },
  "cells": [
    {
      "cell_type": "markdown",
      "source": [
        "# **Day 1 - Working with Variables in Python to Manage Data**"
      ],
      "metadata": {
        "id": "fXGdW_hsh0W3"
      }
    },
    {
      "cell_type": "markdown",
      "source": [
        "# **Printing in Python**\n",
        "\n",
        "**Definition/Concept:**\n",
        "\n",
        "Printing in Python is used to output data to the console or terminal. It is a fundamental operation for displaying information, debugging, and interacting with users.\n",
        "\n",
        "**Syntax/Code:**\n",
        "\n",
        "To print data in Python, we use the print() function. Here’s a basic example:"
      ],
      "metadata": {
        "id": "5S03Y11_1I08"
      }
    },
    {
      "cell_type": "code",
      "source": [
        "print(\"Hello world\")"
      ],
      "metadata": {
        "colab": {
          "base_uri": "https://localhost:8080/"
        },
        "id": "XUkThSLzCpNw",
        "outputId": "3b9dcc91-3cb0-4aee-f619-5ca2deb8801e"
      },
      "execution_count": null,
      "outputs": [
        {
          "output_type": "stream",
          "name": "stdout",
          "text": [
            "Hello world\n"
          ]
        }
      ]
    },
    {
      "cell_type": "markdown",
      "source": [
        "# **How It Works**\n",
        "\n",
        "The print() function works as follows:\n",
        "\n",
        "**Function Call:** It starts with the print keyword, followed by parentheses ().\n",
        "\n",
        "**Inside Parentheses:** Inside the parentheses, you specify the data or values you want to print. This can include text, numbers, or other variables.\n",
        "\n",
        "**Output:** When the code is executed, the print() function sends the specified data to the console or terminal, displaying it for the user to see.\n",
        "\n",
        "# **Details:**\n",
        "*   print() is a built-in function in Python.\n",
        "*   You can print strings, numbers, and\n",
        "    other data types.\n",
        "*   Multiple items can be printed together,\n",
        "    separated by commas."
      ],
      "metadata": {
        "id": "fG98lnS5VAKC"
      }
    },
    {
      "cell_type": "code",
      "source": [
        "# Printing String\n",
        "print(\"Hello World\")"
      ],
      "metadata": {
        "colab": {
          "base_uri": "https://localhost:8080/"
        },
        "id": "Tid-6nL8QY4E",
        "outputId": "f71a6526-5364-4218-9494-563971573feb"
      },
      "execution_count": 5,
      "outputs": [
        {
          "output_type": "stream",
          "name": "stdout",
          "text": [
            "Hello World\n"
          ]
        }
      ]
    },
    {
      "cell_type": "code",
      "source": [
        "# Printing Numbers\n",
        "print(123)\n",
        "print(1.5)"
      ],
      "metadata": {
        "colab": {
          "base_uri": "https://localhost:8080/"
        },
        "id": "-GwNZuHlQghM",
        "outputId": "53e8f44d-4388-473c-f001-a9cb274b4da7"
      },
      "execution_count": 6,
      "outputs": [
        {
          "output_type": "stream",
          "name": "stdout",
          "text": [
            "123\n",
            "1.5\n"
          ]
        }
      ]
    },
    {
      "cell_type": "code",
      "source": [
        "# Printing multiple items separated by comma\n",
        "print(\"Hello\", 123)"
      ],
      "metadata": {
        "colab": {
          "base_uri": "https://localhost:8080/"
        },
        "id": "DYu6gni1Qf1F",
        "outputId": "f614faa5-08f4-4623-ac57-3cd0401af8fb"
      },
      "execution_count": 7,
      "outputs": [
        {
          "output_type": "stream",
          "name": "stdout",
          "text": [
            "Hello 123\n"
          ]
        }
      ]
    },
    {
      "cell_type": "markdown",
      "source": [
        "# **Print Modifiers**\n",
        "\n",
        "**Definition/Concept:**\n",
        "\n",
        "Sometimes, when you want to include quotation marks within a string, it can lead to errors or confusion because Python might misinterpret the nested quotes. Print modifiers help handle such situations by allowing the inclusion of quotes within strings without causing syntax errors.\n",
        "\n",
        "\n",
        "**Problem Example:**\n",
        "\n",
        "If you want to print a string that contains both single and double quotes, such as:\n",
        "\n",
        "**print(\"Hi, my name is \"Snigdha\". I am 20 years old.\")**\n",
        "\n",
        "This will cause an error because the quotes inside the string conflict with the quotes used to define the string.\n",
        "\n",
        "# **Solution:**\n",
        "\n",
        "To resolve this, you can use different types of quotes to enclose the string, or escape the quotes within the string."
      ],
      "metadata": {
        "id": "UqdnoTTKbHyq"
      }
    },
    {
      "cell_type": "code",
      "source": [
        "# Approach 1\n",
        "# Using Different Quotes: If the string contains double quotes, you can enclose it in single quotes or vice versa.\n",
        "\n",
        "print(\"Hi, my name is 'Snigdha'. I am 20 years old.\")\n",
        "print('Hi, my name is \"Snigdha\". I am 20 years old.')"
      ],
      "metadata": {
        "colab": {
          "base_uri": "https://localhost:8080/"
        },
        "id": "WQ6__jdpbdu6",
        "outputId": "8beae8e8-abc9-46a2-e54e-3a3f3e4e5aac"
      },
      "execution_count": null,
      "outputs": [
        {
          "output_type": "stream",
          "name": "stdout",
          "text": [
            "Hi, my name is 'Snigdha'. I am 20 years old.\n",
            "Hi, my name is \"Snigdha\". I am 20 years old.\n"
          ]
        }
      ]
    },
    {
      "cell_type": "code",
      "source": [
        "# Approach 2\n",
        "# Escaping Quotes: Use the backslash \\ to escape quotes within the string.\n",
        "print(\"Hi, my name is \\\"Snigdha\\\". I am 20 years old.\")"
      ],
      "metadata": {
        "colab": {
          "base_uri": "https://localhost:8080/"
        },
        "id": "vGagPTXMbtIL",
        "outputId": "61b0650f-9757-49e6-ac48-98e92affee72"
      },
      "execution_count": 8,
      "outputs": [
        {
          "output_type": "stream",
          "name": "stdout",
          "text": [
            "Hi, my name is \"Snigdha\". I am 20 years old.\n"
          ]
        }
      ]
    },
    {
      "cell_type": "markdown",
      "source": [
        "# **New Line Character (\\n)**\n",
        "**Definition/Concept:**\n",
        "\n",
        "The newline character \\n is used in Python to insert a line break within a string. It allows you to format text output by splitting it across multiple lines.\n",
        "\n",
        "**Syntax/Code:**\n",
        "\n",
        "To use the newline character, include \\n in the string where you want the line break to occur."
      ],
      "metadata": {
        "id": "7t4YUluONVbc"
      }
    },
    {
      "cell_type": "code",
      "source": [
        "print(\"Hello World!!\\nI am Snigdha.\")"
      ],
      "metadata": {
        "id": "zrvBWPGKb6hv",
        "colab": {
          "base_uri": "https://localhost:8080/"
        },
        "outputId": "3aa47127-784d-45c6-cdd5-91337b671b90"
      },
      "execution_count": 3,
      "outputs": [
        {
          "output_type": "stream",
          "name": "stdout",
          "text": [
            "Hello World!!\n",
            "I am Snigdha.\n"
          ]
        }
      ]
    },
    {
      "cell_type": "markdown",
      "source": [
        "# **String Concatenation Using \"+\"**\n",
        "\n",
        "**Definition/Concept:**\n",
        "\n",
        "String concatenation refers to the process of joining two or more strings together to form a single string. In Python, you can concatenate strings using the + operator.\n",
        "\n",
        "**Syntax/Code:**\n",
        "\n",
        "To concatenate strings, use the + operator between the strings you want to join.\n",
        "\n",
        "Handling Spacing in String Concatenation\n",
        "Definition/Concept:\n",
        "When concatenating strings, managing spaces between them is crucial for correct formatting. The + operator combines strings, but it does not automatically include spaces unless specified.\n",
        "\n",
        "# **Handling Spacing in String Concatenation**\n",
        "**Definition/Concept:**\n",
        "\n",
        "When concatenating strings, managing spaces between them is crucial for correct formatting. The + operator combines strings, but it does not automatically include spaces unless specified.\n",
        "\n",
        "**Details:**\n",
        "\n",
        "\n",
        "\n",
        "*   Concatenation with Trailing Space: \"Hi \" + \"World\" includes a space at the end of \"Hi\", so the output has the correct spacing.\n",
        "*   Concatenation with Leading Space: \"Hi\" + \" World\" has the space before \"World\", so the output is correctly spaced.\n",
        "\n",
        "*   Concatenation with Explicit Space: \"Hi\" + \" \" + \"World\" manually adds a space between the two strings.\n",
        "\n",
        "**Best Practices:**\n",
        "\n",
        "1.   Use explicit spaces (\" \") when needed to ensure proper formatting between concatenated strings.\n",
        "2.   Be mindful of trailing or leading spaces in strings to avoid unintended formatting issues.\n"
      ],
      "metadata": {
        "id": "PPpbY5zkOEhy"
      }
    },
    {
      "cell_type": "code",
      "source": [
        "# Without Space Between Strings\n",
        "print(\"Hi\" + \"World\")"
      ],
      "metadata": {
        "colab": {
          "base_uri": "https://localhost:8080/"
        },
        "id": "vWJwB-g1NmjB",
        "outputId": "be6481d7-082b-4347-ef8a-5e93238f892c"
      },
      "execution_count": 10,
      "outputs": [
        {
          "output_type": "stream",
          "name": "stdout",
          "text": [
            "HiWorld\n"
          ]
        }
      ]
    },
    {
      "cell_type": "code",
      "source": [
        "# Space Before the First String\n",
        "print(\"Hi \" + \"World\")"
      ],
      "metadata": {
        "colab": {
          "base_uri": "https://localhost:8080/"
        },
        "id": "4wHI0ZqARM22",
        "outputId": "a514c5be-0caa-4848-bf8b-ea6147d27928"
      },
      "execution_count": 11,
      "outputs": [
        {
          "output_type": "stream",
          "name": "stdout",
          "text": [
            "Hi World\n"
          ]
        }
      ]
    },
    {
      "cell_type": "code",
      "source": [
        "# Space Before the Second String\n",
        "print(\"Hi\" + \" World\")"
      ],
      "metadata": {
        "colab": {
          "base_uri": "https://localhost:8080/"
        },
        "id": "VCZnSqiWRWY7",
        "outputId": "7ee50490-9490-4f48-a7ea-7139bc53a40f"
      },
      "execution_count": 12,
      "outputs": [
        {
          "output_type": "stream",
          "name": "stdout",
          "text": [
            "Hi World\n"
          ]
        }
      ]
    },
    {
      "cell_type": "code",
      "source": [
        "# Explicit Space Between Strings\n",
        "print(\"Hi\" + \" \" + \"World\")"
      ],
      "metadata": {
        "colab": {
          "base_uri": "https://localhost:8080/"
        },
        "id": "hubtNXGyRaXj",
        "outputId": "2f5831df-2406-42c5-d1d3-d55972fb7eec"
      },
      "execution_count": 13,
      "outputs": [
        {
          "output_type": "stream",
          "name": "stdout",
          "text": [
            "Hi World\n"
          ]
        }
      ]
    },
    {
      "cell_type": "markdown",
      "source": [
        "# **The input() Function**\n",
        "**Definition/Concept:**\n",
        "\n",
        "The input() function in Python is used to take user input from the console. It reads a line of text entered by the user and returns it as a string. This is commonly used for interactive programs where user interaction is required.\n",
        "\n",
        "**Syntax/code:**\n",
        "\n",
        "input(prompt)\n",
        "\n",
        "**Here:**\n",
        "\n",
        "**input():** It is the built-in function in Python.\n",
        "\n",
        "**prompt (optional):** A string that is displayed to the user before they enter their input. It helps to guide the user on what kind of input is expected."
      ],
      "metadata": {
        "id": "qiBZFzbWTv4a"
      }
    },
    {
      "cell_type": "code",
      "source": [
        "print(\"Hello \" + input(\"What is your name? \"))"
      ],
      "metadata": {
        "colab": {
          "base_uri": "https://localhost:8080/"
        },
        "id": "3GEa0J70RibU",
        "outputId": "4a8d03ce-7b9e-4035-8f4e-c433031b34b6"
      },
      "execution_count": 15,
      "outputs": [
        {
          "output_type": "stream",
          "name": "stdout",
          "text": [
            "What is your name? Snigdha\n",
            "Hello Snigdha\n"
          ]
        }
      ]
    },
    {
      "cell_type": "markdown",
      "source": [
        "# **Comments in Python**\n",
        "\n",
        "**Definition/Concept:**\n",
        "\n",
        "Comments in Python are used to include explanatory notes in the code. They help make the code more readable and understandable for humans. Comments are ignored by the Python interpreter and do not affect the execution of the program.\n",
        "\n",
        "**Types of Comments:**\n",
        "*   Single-Line Comments\n",
        "*   Multi-Line Comments"
      ],
      "metadata": {
        "id": "XSH3nQVbWqQ6"
      }
    },
    {
      "cell_type": "markdown",
      "source": [
        "# **1. Single-Line Comments**\n",
        "\n",
        "**Syntax:**\n",
        "\n",
        "Single-line comments begin with the # symbol. Everything following the # on that line is considered a comment.\n",
        "\n",
        "\n",
        "**Details:**\n",
        "\n",
        "Single-line comments are used for brief explanations or notes about a specific line of code.\n",
        "Inline comments can be used to add explanations next to code statements."
      ],
      "metadata": {
        "id": "DA2vp-ijXE-V"
      }
    },
    {
      "cell_type": "code",
      "source": [
        "# This is a single-line comment\n",
        "print(\"Hello, World!\")  # This is an inline comment"
      ],
      "metadata": {
        "colab": {
          "base_uri": "https://localhost:8080/"
        },
        "id": "4UsQ6AJhUVot",
        "outputId": "a61d3448-2510-436f-d0c8-d5e67d8403dc"
      },
      "execution_count": 16,
      "outputs": [
        {
          "output_type": "stream",
          "name": "stdout",
          "text": [
            "Hello, World!\n"
          ]
        }
      ]
    },
    {
      "cell_type": "markdown",
      "source": [
        "# **2. Multi-Line Comments**\n",
        "\n",
        "**Syntax:**\n",
        "\n",
        "Multi-line comments can be created using triple quotes (''' or \"\"\"). These are technically multi-line string literals, but they are used as comments when not assigned to any variable.\n",
        "\n",
        "\n",
        "**Details:**\n",
        "\n",
        "\n",
        "*   Multi-line comments are useful for providing detailed explanations or documentation about larger sections of code.\n",
        "*   Although triple quotes are used for multi-line comments, they are actually string literals and are not removed by the interpreter if not assigned to a variable. However, they are commonly used for this purpose in practice."
      ],
      "metadata": {
        "id": "B3DaU346Xd8S"
      }
    },
    {
      "cell_type": "code",
      "source": [
        "\"\"\"\n",
        "This is a multi-line comment.\n",
        "It spans multiple lines and can be used for longer explanations\n",
        "or documentation within the code.\n",
        "\"\"\"\n",
        "print(\"Hello, World!\")\n",
        "\n",
        "# OR\n",
        "\n",
        "'''\n",
        "This is another way to write a multi-line comment.\n",
        "Triple single quotes work the same as triple double quotes.\n",
        "'''\n",
        "print(\"Hello, World!\")"
      ],
      "metadata": {
        "colab": {
          "base_uri": "https://localhost:8080/"
        },
        "id": "AaZCGjm-Xcxy",
        "outputId": "20e3f89f-13e7-4d28-e96a-99d0ab41b282"
      },
      "execution_count": 18,
      "outputs": [
        {
          "output_type": "stream",
          "name": "stdout",
          "text": [
            "Hello, World!\n",
            "Hello, World!\n"
          ]
        }
      ]
    },
    {
      "cell_type": "markdown",
      "source": [
        "**Best Practices:**\n",
        "\n",
        "Use **single-line comments** for short notes and inline explanations.\n",
        "\n",
        "Use **multi-line comments** for longer explanations, documentation, or to comment out blocks of code during debugging.\n"
      ],
      "metadata": {
        "id": "bmOQSS8nYNqj"
      }
    },
    {
      "cell_type": "markdown",
      "source": [
        "# **The len() Function**\n",
        "\n",
        "**Definition/Concept:**\n",
        "\n",
        "The len() function in Python is used to determine the length of an object. It returns the number of items in an object, such as the number of characters in a string, the number of elements in a list, or the number of keys in a dictionary."
      ],
      "metadata": {
        "id": "OeGTOEQXaqjM"
      }
    },
    {
      "cell_type": "code",
      "source": [
        "print(len(input(\"Enter your name. I will tell the number of letters it has: \")))"
      ],
      "metadata": {
        "colab": {
          "base_uri": "https://localhost:8080/"
        },
        "id": "zPMWTemGXrsr",
        "outputId": "0828563b-d217-48d8-db14-c935e79ffb33"
      },
      "execution_count": 20,
      "outputs": [
        {
          "output_type": "stream",
          "name": "stdout",
          "text": [
            "Enter your name. I will tell the number of letters it has: Snigdha\n",
            "7\n"
          ]
        }
      ]
    },
    {
      "cell_type": "markdown",
      "source": [
        "# **Variables in Python**\n",
        "\n",
        "**Definition/Concept:**\n",
        "\n",
        "A variable in Python is a named location used to store data in memory. Variables act as placeholders for values, allowing you to reference and manipulate data throughout your program.\n",
        "\n",
        "**Syntax/Code:**\n",
        "\n",
        "To create a variable, simply assign a value to a name using the = operator.\n",
        "\n",
        "variable_name = value\n"
      ],
      "metadata": {
        "id": "qXPPGkiwc2UY"
      }
    },
    {
      "cell_type": "code",
      "source": [
        "# Here, age is a variable storing the integer 20, and name is a variable storing the string \"Snigdha\".\n",
        "age = 20\n",
        "name = \"Snigdha\"\n",
        "print(\"My name is\", name, \"and I am\", age, \"years old.\")"
      ],
      "metadata": {
        "colab": {
          "base_uri": "https://localhost:8080/"
        },
        "id": "LbcYJ7TRa6Kj",
        "outputId": "1ba2dc6b-327f-4d5e-a00b-52f1b3cabfd9"
      },
      "execution_count": 26,
      "outputs": [
        {
          "output_type": "stream",
          "name": "stdout",
          "text": [
            "My name is Snigdha and I am 20 years old.\n"
          ]
        }
      ]
    },
    {
      "cell_type": "code",
      "source": [
        "# Reassigning a Value\n",
        "\n",
        "x = 10\n",
        "x = 20\n",
        "print(x)  # Output: 20\n"
      ],
      "metadata": {
        "colab": {
          "base_uri": "https://localhost:8080/"
        },
        "id": "0CK6pnAxdR4D",
        "outputId": "6218b0fc-43e5-4631-ab64-93bca6823329"
      },
      "execution_count": 27,
      "outputs": [
        {
          "output_type": "stream",
          "name": "stdout",
          "text": [
            "20\n"
          ]
        }
      ]
    },
    {
      "cell_type": "code",
      "source": [
        "# Using Variables in Expressions\n",
        "a = 5\n",
        "b = 10\n",
        "sum = a + b\n",
        "print(sum)  # Output: 15"
      ],
      "metadata": {
        "colab": {
          "base_uri": "https://localhost:8080/"
        },
        "id": "afRRWw8kdvGC",
        "outputId": "89ae790d-714a-4961-cecb-4a1f3f9d1a8b"
      },
      "execution_count": 28,
      "outputs": [
        {
          "output_type": "stream",
          "name": "stdout",
          "text": [
            "15\n"
          ]
        }
      ]
    },
    {
      "cell_type": "markdown",
      "source": [
        "# **Variable Naming Rules in Python**\n",
        "\n",
        "**1. Start with a Letter or Underscore:**\n",
        "\n",
        "*   Variable names must start with a letter (a-z, A-Z) or an underscore (_).\n",
        "*   They cannot start with a digit."
      ],
      "metadata": {
        "id": "srQ0mR4mer7b"
      }
    },
    {
      "cell_type": "code",
      "source": [
        "valid_variable = 10\n",
        "_variable = 20\n",
        "name1 = \"Snigdha\""
      ],
      "metadata": {
        "id": "H82iwtP4d0oa"
      },
      "execution_count": 29,
      "outputs": []
    },
    {
      "cell_type": "code",
      "source": [
        "1name = \"Bob\"  # Invalid"
      ],
      "metadata": {
        "colab": {
          "base_uri": "https://localhost:8080/",
          "height": 106
        },
        "id": "Kpe0I_WVe-bx",
        "outputId": "6528c762-8999-4711-f9fd-32d65a2f87a8"
      },
      "execution_count": 30,
      "outputs": [
        {
          "output_type": "error",
          "ename": "SyntaxError",
          "evalue": "invalid decimal literal (<ipython-input-30-9d0b9ec1d6e8>, line 1)",
          "traceback": [
            "\u001b[0;36m  File \u001b[0;32m\"<ipython-input-30-9d0b9ec1d6e8>\"\u001b[0;36m, line \u001b[0;32m1\u001b[0m\n\u001b[0;31m    1name = \"Bob\"  # Invalid\u001b[0m\n\u001b[0m    ^\u001b[0m\n\u001b[0;31mSyntaxError\u001b[0m\u001b[0;31m:\u001b[0m invalid decimal literal\n"
          ]
        }
      ]
    },
    {
      "cell_type": "markdown",
      "source": [
        "**2. Followed by Letters, Digits, or Underscores:**\n",
        "\n",
        "*   After the first character, variable names can include letters, digits, and underscores.\n",
        "\n"
      ],
      "metadata": {
        "id": "VWwsvQzZfHXg"
      }
    },
    {
      "cell_type": "code",
      "source": [
        "variable_name = \"value\"\n",
        "variable_name1 = \"value1\"\n",
        "var_name_2 = \"value2\"\n"
      ],
      "metadata": {
        "id": "xouMf6ZHfB9k"
      },
      "execution_count": 31,
      "outputs": []
    },
    {
      "cell_type": "markdown",
      "source": [
        "**3. Case Sensitivity:**\n",
        "\n",
        "*   Variable names are case-sensitive. myvariable, MyVariable, and MYVARIABLE are considered different variables."
      ],
      "metadata": {
        "id": "K7bd4_imfalI"
      }
    },
    {
      "cell_type": "code",
      "source": [
        "myvariable = 10\n",
        "MyVariable = 20\n",
        "MYVARIABLE = 30"
      ],
      "metadata": {
        "id": "8X3KwWfyfVis"
      },
      "execution_count": 32,
      "outputs": []
    },
    {
      "cell_type": "markdown",
      "source": [
        "**4. No Reserved Keywords:**\n",
        "\n",
        "\n",
        "*   Variable names cannot be reserved keywords or identifiers used by Python's syntax (e.g., if, while, class, import)."
      ],
      "metadata": {
        "id": "OMzNWPYWfqVE"
      }
    },
    {
      "cell_type": "code",
      "source": [
        "# Reserved keywords (Invalid)\n",
        "if = \"test\"  # Invalid\n",
        "class = \"example\"  # Invalid\n"
      ],
      "metadata": {
        "colab": {
          "base_uri": "https://localhost:8080/",
          "height": 106
        },
        "id": "Z1yzOEUlfmx9",
        "outputId": "f0885b82-288b-48a1-a183-99a59d13fab5"
      },
      "execution_count": 33,
      "outputs": [
        {
          "output_type": "error",
          "ename": "SyntaxError",
          "evalue": "invalid syntax (<ipython-input-33-2ba2d5eda0f1>, line 2)",
          "traceback": [
            "\u001b[0;36m  File \u001b[0;32m\"<ipython-input-33-2ba2d5eda0f1>\"\u001b[0;36m, line \u001b[0;32m2\u001b[0m\n\u001b[0;31m    if = \"test\"  # Invalid\u001b[0m\n\u001b[0m       ^\u001b[0m\n\u001b[0;31mSyntaxError\u001b[0m\u001b[0;31m:\u001b[0m invalid syntax\n"
          ]
        }
      ]
    },
    {
      "cell_type": "markdown",
      "source": [
        "**5. Use Descriptive Names:**\n",
        "\n",
        "\n",
        "*   Choose meaningful names that describe the purpose of the variable. This improves code readability."
      ],
      "metadata": {
        "id": "9zcRjBkTgavO"
      }
    },
    {
      "cell_type": "code",
      "source": [
        "total_price = 100\n",
        "user_age = 25\n",
        "average_score = 87.5"
      ],
      "metadata": {
        "id": "i2Lpa_S-gUJ8"
      },
      "execution_count": 34,
      "outputs": []
    },
    {
      "cell_type": "markdown",
      "source": [
        "**6. Avoid Special Characters and Spaces:**\n",
        "\n",
        "\n",
        "*   Variable names cannot contain spaces or special characters other than underscores.\n"
      ],
      "metadata": {
        "id": "OUjTGjt8gnfq"
      }
    },
    {
      "cell_type": "code",
      "source": [
        "valid_variable_name = \"value\"\n",
        "another_valid_name = \"value\""
      ],
      "metadata": {
        "id": "GS9Ke3qxgicQ"
      },
      "execution_count": 35,
      "outputs": []
    },
    {
      "cell_type": "code",
      "source": [
        "invalid-variable-name = \"value\"  # Invalid\n",
        "invalid variable name = \"value\"  # Invalid"
      ],
      "metadata": {
        "colab": {
          "base_uri": "https://localhost:8080/",
          "height": 106
        },
        "id": "oxABUN5zgvAI",
        "outputId": "af2d55e8-cd0d-4457-a383-29bffd4935b8"
      },
      "execution_count": 36,
      "outputs": [
        {
          "output_type": "error",
          "ename": "SyntaxError",
          "evalue": "cannot assign to expression here. Maybe you meant '==' instead of '='? (<ipython-input-36-1d149849ada2>, line 1)",
          "traceback": [
            "\u001b[0;36m  File \u001b[0;32m\"<ipython-input-36-1d149849ada2>\"\u001b[0;36m, line \u001b[0;32m1\u001b[0m\n\u001b[0;31m    invalid-variable-name = \"value\"  # Invalid\u001b[0m\n\u001b[0m    ^\u001b[0m\n\u001b[0;31mSyntaxError\u001b[0m\u001b[0;31m:\u001b[0m cannot assign to expression here. Maybe you meant '==' instead of '='?\n"
          ]
        }
      ]
    },
    {
      "cell_type": "markdown",
      "source": [
        "**7. Use Underscores for Readability:**\n",
        "\n",
        "\n",
        "*   For multi-word variable names, use underscores to separate words (known as snake_case)."
      ],
      "metadata": {
        "id": "6U_YeuDwg2V1"
      }
    },
    {
      "cell_type": "code",
      "source": [
        "first_name = \"John\"\n",
        "last_name = \"Doe\"\n",
        "total_amount_due = 500"
      ],
      "metadata": {
        "id": "_9OKXQUwgxo9"
      },
      "execution_count": 37,
      "outputs": []
    },
    {
      "cell_type": "code",
      "source": [],
      "metadata": {
        "id": "q-TBLU7Og7de"
      },
      "execution_count": null,
      "outputs": []
    }
  ]
}