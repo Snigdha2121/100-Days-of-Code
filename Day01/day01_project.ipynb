{
  "nbformat": 4,
  "nbformat_minor": 0,
  "metadata": {
    "colab": {
      "provenance": []
    },
    "kernelspec": {
      "name": "python3",
      "display_name": "Python 3"
    },
    "language_info": {
      "name": "python"
    }
  },
  "cells": [
    {
      "cell_type": "markdown",
      "source": [
        "# **Project Overview: Band Name Generator**\n",
        "**Objective:**\n",
        "\n",
        "To create an interactive Python program that generates unique and creative band names based on user input. This project demonstrates the use of basic programming concepts such as user input, string concatenation, and output formatting.\n",
        "\n",
        "**Features:**\n",
        "\n",
        "\n",
        "\n",
        "1.   **User Input:** Collects two pieces of information from the user:\n",
        "\n",
        "*   Name of the city they grew up in.\n",
        "*   Name of their pet.\n",
        "\n",
        "\n",
        "\n",
        "2.   **Band Name Generation:** Combines the inputs to create a personalized band name.\n",
        "\n",
        "3.   **Output:** Displays the generated band name to the user in a formatted string.\n",
        "\n",
        "**How It Works:**\n",
        "\n",
        "*   **Display a Welcome Message:** The program starts by printing a welcome message to introduce the Band Name Generator.\n",
        "*   **Collect User Input:** Prompts the user to input:\n",
        "    1. The name of the city they grew up in.\n",
        "    2. The name of their pet.\n",
        "\n",
        "\n",
        "*   **Generate Band Name:** Concatenates the city and pet names to form a unique band name.\n",
        "*   **Display Result:** Outputs the generated band name in a formatted string."
      ],
      "metadata": {
        "id": "kdkHC_XKkh9Y"
      }
    },
    {
      "cell_type": "code",
      "source": [
        "print(\"Band Name Generator\")\n",
        "city = input(\"What's the name of the city you grew up in?\\n\")\n",
        "pet = input(\"What's the name of your pet?\\n\")\n",
        "print(\"Your band name could be: '\" + city + \" \" + pet + \"'\")"
      ],
      "metadata": {
        "colab": {
          "base_uri": "https://localhost:8080/"
        },
        "id": "l2a-tNy0jgGD",
        "outputId": "fbc89a29-ec6b-4227-80eb-03a1734dceeb"
      },
      "execution_count": null,
      "outputs": [
        {
          "output_type": "stream",
          "name": "stdout",
          "text": [
            "Band Name Generator\n",
            "What's the name of the city you grew up in?\n",
            "Delhi\n",
            "What's the name of your pet?\n",
            "Ray\n",
            "Your band name could be: 'Delhi Ray'\n"
          ]
        }
      ]
    },
    {
      "cell_type": "code",
      "source": [],
      "metadata": {
        "id": "d8R5mdmLkikA"
      },
      "execution_count": null,
      "outputs": []
    }
  ]
}