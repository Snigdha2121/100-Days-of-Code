{
  "nbformat": 4,
  "nbformat_minor": 0,
  "metadata": {
    "colab": {
      "provenance": []
    },
    "kernelspec": {
      "name": "python3",
      "display_name": "Python 3"
    },
    "language_info": {
      "name": "python"
    }
  },
  "cells": [
    {
      "cell_type": "markdown",
      "source": [
        "# **Day 2 -  Understanding Data Types and How to Manipulate Strings**"
      ],
      "metadata": {
        "id": "C4wPvRtGheqj"
      }
    },
    {
      "cell_type": "markdown",
      "source": [
        "# **Data Types in Python**\n",
        "\n",
        "**Introduction**\n",
        "\n",
        "In Python, data types are used to specify the type of value a variable holds. Understanding data types is crucial for performing operations on variables and ensuring that they are used correctly.\n",
        "\n",
        "# Basic Data Types\n",
        "\n",
        "1. Integers (int)\n",
        "2. Floating-Point Numbers (float)\n",
        "3. Strings (str)\n",
        "4. Booleans (bool)\n",
        "\n",
        "# Collection Data Types\n",
        "\n",
        "1. Lists (list)\n",
        "2. Tuples (tuple)\n",
        "3. Dictionaries (dict)\n",
        "4. Sets (set)"
      ],
      "metadata": {
        "id": "BQFgxX1bnITc"
      }
    },
    {
      "cell_type": "markdown",
      "source": [
        "# **Basic Data Types**"
      ],
      "metadata": {
        "id": "pYocBaDHpiL_"
      }
    },
    {
      "cell_type": "markdown",
      "source": [
        "# 1. Integers (int)\n",
        "\n",
        "Represents whole numbers.\n",
        "\n",
        "Example: 5, -23, 0"
      ],
      "metadata": {
        "id": "ZnXhFiQVpBvP"
      }
    },
    {
      "cell_type": "code",
      "source": [
        "a = 87\n",
        "b = -9\n",
        "c = 0"
      ],
      "metadata": {
        "id": "dMlXxXV8nG4Z"
      },
      "execution_count": 1,
      "outputs": []
    },
    {
      "cell_type": "markdown",
      "source": [
        "# 2. Floating-Point Numbers (float)\n",
        "\n",
        "Represents real numbers with a decimal point.\n",
        "\n",
        "Example: 3.14, -0.001, 2.0"
      ],
      "metadata": {
        "id": "unXh85pcpNWk"
      }
    },
    {
      "cell_type": "code",
      "source": [
        "a = 8.9\n",
        "b = -98.92\n",
        "c = 0.987"
      ],
      "metadata": {
        "id": "Mwylh7PIpMZW"
      },
      "execution_count": 2,
      "outputs": []
    },
    {
      "cell_type": "markdown",
      "source": [
        "# 3. Strings (str)\n",
        "\n",
        "Represents a sequence of characters enclosed in single or double quotes.\n",
        "\n",
        "Example: \"Hello, World!\", 'Python'"
      ],
      "metadata": {
        "id": "DdVt5jjrpelC"
      }
    },
    {
      "cell_type": "code",
      "source": [
        "message = \"Hello, World!\"\n",
        "language = 'Python'"
      ],
      "metadata": {
        "id": "BM6FjIr9pduG"
      },
      "execution_count": 1,
      "outputs": []
    },
    {
      "cell_type": "markdown",
      "source": [
        "# 4. Booleans (bool)\n",
        "\n",
        "Represents True or False.\n",
        "\n",
        "Used for logical operations and conditions."
      ],
      "metadata": {
        "id": "j_Z6dGrUpfn5"
      }
    },
    {
      "cell_type": "code",
      "source": [
        "is_active = True\n",
        "is_verified = False"
      ],
      "metadata": {
        "id": "E7dqf1fGpgH_"
      },
      "execution_count": 2,
      "outputs": []
    },
    {
      "cell_type": "markdown",
      "source": [
        "# **Collection Data Types**"
      ],
      "metadata": {
        "id": "e67hu01Gs5cS"
      }
    },
    {
      "cell_type": "markdown",
      "source": [
        "# 1. Lists (list)\n",
        "\n",
        "An ordered, mutable collection of items. Can contain elements of different data types.\n",
        "\n",
        "Example: [1, 2, 3], ['a', 'b', 'c']"
      ],
      "metadata": {
        "id": "8tAtizc9s6IG"
      }
    },
    {
      "cell_type": "code",
      "source": [
        "numbers = [1, 2, 3, 4]\n",
        "mixed_list = [1, 'two', 3.0]"
      ],
      "metadata": {
        "id": "uLW2knt7sh0D"
      },
      "execution_count": 3,
      "outputs": []
    },
    {
      "cell_type": "markdown",
      "source": [
        "# 2. Tuples (tuple)\n",
        "\n",
        "An ordered, immutable collection of items. Once created, its elements cannot be changed.\n",
        "\n",
        "Example: (1, 2, 3), ('a', 'b', 'c')"
      ],
      "metadata": {
        "id": "ARmrQNo-tFwi"
      }
    },
    {
      "cell_type": "code",
      "source": [
        "coordinates = (10.0, 20.0)\n",
        "person = ('Alice', 30)"
      ],
      "metadata": {
        "id": "V73IVdbxtC-2"
      },
      "execution_count": 4,
      "outputs": []
    },
    {
      "cell_type": "markdown",
      "source": [
        "# 3. Dictionaries (dict)\n",
        "\n",
        "A collection of key-value pairs. Keys must be unique and immutable.\n",
        "\n",
        "Example: {'name': 'Alice', 'age': 30}"
      ],
      "metadata": {
        "id": "ukX40j4WtGKb"
      }
    },
    {
      "cell_type": "code",
      "source": [
        "student = {'name': 'Alice', 'age': 30}"
      ],
      "metadata": {
        "id": "wdTk1oT8tGqi"
      },
      "execution_count": 5,
      "outputs": []
    },
    {
      "cell_type": "markdown",
      "source": [
        "# 4. Sets (set)\n",
        "\n",
        "An unordered collection of unique items.\n",
        "\n",
        "Example: {1, 2, 3}, {'apple', 'banana', 'cherry'}"
      ],
      "metadata": {
        "id": "gF_Uf3PktTid"
      }
    },
    {
      "cell_type": "code",
      "source": [
        "unique_numbers = {1, 2, 3, 4}\n",
        "fruits = {'apple', 'banana', 'cherry'}"
      ],
      "metadata": {
        "id": "Aj9Pi1P-tRO_"
      },
      "execution_count": 6,
      "outputs": []
    },
    {
      "cell_type": "markdown",
      "source": [
        "# **Subscripting**\n",
        "\n",
        "**Subscripting**\n",
        "\n",
        "Subscripting, also known as indexing, is used to access individual elements of a sequence data type (like lists, tuples, and strings) using an index."
      ],
      "metadata": {
        "id": "dLYvAMzQuC2N"
      }
    },
    {
      "cell_type": "markdown",
      "source": [
        "# Lists\n",
        "**Accessing Elements:** Use an index to access elements in a list. Indexing starts at 0.\n",
        "\n",
        "**Syntax:** list[index]\n",
        "\n",
        "**Negative Indexing:** You can use negative indices to access elements from the end of the list. -1 is the last element."
      ],
      "metadata": {
        "id": "ueWgJhCauWHE"
      }
    },
    {
      "cell_type": "code",
      "source": [
        "fruits = ['apple', 'banana', 'cherry']\n",
        "print(fruits[0])  # Output: apple\n",
        "print(fruits[1])  # Output: banana\n",
        "print(fruits[-1])  # Output: cherry"
      ],
      "metadata": {
        "colab": {
          "base_uri": "https://localhost:8080/"
        },
        "id": "FazJAMd2uVmS",
        "outputId": "4aed6dcc-d845-4d58-9a06-bc62a6ea5d31"
      },
      "execution_count": 8,
      "outputs": [
        {
          "output_type": "stream",
          "name": "stdout",
          "text": [
            "apple\n",
            "banana\n",
            "cherry\n"
          ]
        }
      ]
    },
    {
      "cell_type": "markdown",
      "source": [
        "# Tuples\n",
        "Accessing Elements: Similar to lists, use an index to access elements in a tuple.\n",
        "\n",
        "**Syntax:** tuple[index]"
      ],
      "metadata": {
        "id": "KZ7XoDozutUP"
      }
    },
    {
      "cell_type": "code",
      "source": [
        "coordinates = (10.0, 20.0, 30.0)\n",
        "print(coordinates[0])  # Output: 10.0"
      ],
      "metadata": {
        "colab": {
          "base_uri": "https://localhost:8080/"
        },
        "id": "CCqcI0nktYW8",
        "outputId": "84bfe64b-24e1-4388-8d90-910195c8a30a"
      },
      "execution_count": 9,
      "outputs": [
        {
          "output_type": "stream",
          "name": "stdout",
          "text": [
            "10.0\n"
          ]
        }
      ]
    },
    {
      "cell_type": "markdown",
      "source": [
        "# Strings\n",
        "Accessing Characters: Use an index to access individual characters in a string.\n",
        "\n",
        "**Syntax:** string[index]"
      ],
      "metadata": {
        "id": "GN625MSiu3Ve"
      }
    },
    {
      "cell_type": "code",
      "source": [
        "message = \"Hello, World!\"\n",
        "print(message[0])  # Output: H\n",
        "print(message[-1]) # Output: !"
      ],
      "metadata": {
        "colab": {
          "base_uri": "https://localhost:8080/"
        },
        "id": "okKY8J57u0YZ",
        "outputId": "f188aa44-567e-457f-ff2a-53dc9017473c"
      },
      "execution_count": 10,
      "outputs": [
        {
          "output_type": "stream",
          "name": "stdout",
          "text": [
            "H\n",
            "!\n"
          ]
        }
      ]
    },
    {
      "cell_type": "markdown",
      "source": [
        "# **Checking Data Types**\n",
        "Use the type() function to determine the type of a variable."
      ],
      "metadata": {
        "id": "Nh_U992-wENd"
      }
    },
    {
      "cell_type": "code",
      "source": [
        "a = 10\n",
        "print(type(a))  # Output: <class 'int'>"
      ],
      "metadata": {
        "colab": {
          "base_uri": "https://localhost:8080/"
        },
        "id": "S7db9ufYu7Ln",
        "outputId": "29b3e8de-6e00-40f7-ac1f-5351fca7be23"
      },
      "execution_count": 11,
      "outputs": [
        {
          "output_type": "stream",
          "name": "stdout",
          "text": [
            "<class 'int'>\n"
          ]
        }
      ]
    },
    {
      "cell_type": "markdown",
      "source": [
        "# **Type Conversion or Type Casting**\n",
        "1. int(): Convert to integer\n",
        "2. float(): Convert to float\n",
        "3. str(): Convert to string\n",
        "4. list(): Convert to list\n",
        "5. tuple(): Convert to tuple\n",
        "6. set(): Convert to set\n",
        "7. dict(): Convert to dictionary"
      ],
      "metadata": {
        "id": "_i0Cq1JkwLJK"
      }
    },
    {
      "cell_type": "code",
      "source": [
        "num_int = 123\n",
        "num_str = str(num_int)  # Converts integer to string\n",
        "print(\"Snigdha\" + num_str)  # Output: Snigdha123"
      ],
      "metadata": {
        "colab": {
          "base_uri": "https://localhost:8080/"
        },
        "id": "AkGKUZvuwIA0",
        "outputId": "b05e2d3a-ebcd-416d-e57d-a18dc3db78a4"
      },
      "execution_count": 15,
      "outputs": [
        {
          "output_type": "stream",
          "name": "stdout",
          "text": [
            "Snigdha123\n"
          ]
        }
      ]
    },
    {
      "cell_type": "markdown",
      "source": [
        "# **Mathematical Operators in Python**\n",
        "\n",
        "Mathematical operators are used to perform arithmetic operations on numbers. Python supports several mathematical operators that can be applied to integers and floating-point numbers.\n",
        "\n",
        "# Basic Operators\n",
        "1. Addition (+)\n",
        "2. Subtraction (-)\n",
        "3. Multiplication (*)\n",
        "4. Division (/)\n",
        "5. Floor Division (//)\n",
        "6. Modulus (%)\n",
        "7. Exponentiation (**)\n",
        "\n",
        "# Operator Precedence:  \n",
        "Parentheses\n",
        "\n",
        "Exponents\n",
        "\n",
        "Multiplication\n",
        "\n",
        "Division\n",
        "\n",
        "Addition\n",
        "\n",
        "Subtraction"
      ],
      "metadata": {
        "id": "Us4lPZz-x76A"
      }
    },
    {
      "cell_type": "markdown",
      "source": [
        "# Addition (+)\n",
        "\n",
        "Adds two values.\n",
        "\n",
        "**Syntax:** a + b"
      ],
      "metadata": {
        "id": "1Zq4n465yz-x"
      }
    },
    {
      "cell_type": "code",
      "source": [
        "x = 10\n",
        "y = 5\n",
        "result = x + y\n",
        "print(result)  # Output: 15"
      ],
      "metadata": {
        "colab": {
          "base_uri": "https://localhost:8080/"
        },
        "id": "UyNoPjrowcZN",
        "outputId": "64b6a25c-8568-4c0d-c129-3d51d40a0238"
      },
      "execution_count": 16,
      "outputs": [
        {
          "output_type": "stream",
          "name": "stdout",
          "text": [
            "15\n"
          ]
        }
      ]
    },
    {
      "cell_type": "markdown",
      "source": [
        "# Subtraction (-)\n",
        "\n",
        "Subtracts the second value from the first value.\n",
        "\n",
        "**Syntax:** a - b\n"
      ],
      "metadata": {
        "id": "Aeu_hnN1y7-Y"
      }
    },
    {
      "cell_type": "code",
      "source": [
        "x = 10\n",
        "y = 5\n",
        "result = x - y\n",
        "print(result)  # Output: 5"
      ],
      "metadata": {
        "colab": {
          "base_uri": "https://localhost:8080/"
        },
        "id": "KmeNx9Auy64H",
        "outputId": "0c1a35eb-d73f-4747-930c-9b063b2d759c"
      },
      "execution_count": 17,
      "outputs": [
        {
          "output_type": "stream",
          "name": "stdout",
          "text": [
            "5\n"
          ]
        }
      ]
    },
    {
      "cell_type": "markdown",
      "source": [
        "# Multiplication (*)\n",
        "\n",
        "Multiplies two values.\n",
        "\n",
        "**Syntax:** a * b"
      ],
      "metadata": {
        "id": "4X__htnBzC-T"
      }
    },
    {
      "cell_type": "code",
      "source": [
        "x = 10\n",
        "y = 5\n",
        "result = x * y\n",
        "print(result)  # Output: 50"
      ],
      "metadata": {
        "colab": {
          "base_uri": "https://localhost:8080/"
        },
        "id": "zva8BUi8zCES",
        "outputId": "df16fcdb-1bd1-4147-b5fb-6363fdbf1cb0"
      },
      "execution_count": 18,
      "outputs": [
        {
          "output_type": "stream",
          "name": "stdout",
          "text": [
            "50\n"
          ]
        }
      ]
    },
    {
      "cell_type": "markdown",
      "source": [
        "# Division (/)\n",
        "\n",
        "Divides the first value by the second value. The result is a floating-point number.\n",
        "\n",
        "**Syntax:** a / b"
      ],
      "metadata": {
        "id": "VJizsouEzDm5"
      }
    },
    {
      "cell_type": "code",
      "source": [
        "x = 10\n",
        "y = 3\n",
        "result = x / y\n",
        "print(result)  # Output: 3.3333333333333335"
      ],
      "metadata": {
        "colab": {
          "base_uri": "https://localhost:8080/"
        },
        "id": "FzJISL_tzENx",
        "outputId": "18fc4f0b-84c4-4b28-8ea2-adfe81c3a850"
      },
      "execution_count": 19,
      "outputs": [
        {
          "output_type": "stream",
          "name": "stdout",
          "text": [
            "3.3333333333333335\n"
          ]
        }
      ]
    },
    {
      "cell_type": "markdown",
      "source": [
        "# Floor Division (//)\n",
        "\n",
        "Divides the first value by the second value and returns the integer part of the quotient (truncated).\n",
        "\n",
        "**Syntax:** a // b"
      ],
      "metadata": {
        "id": "BqEwjsC4zcvZ"
      }
    },
    {
      "cell_type": "code",
      "source": [
        "x = 10\n",
        "y = 3\n",
        "result = x // y\n",
        "print(result)  # Output: 3"
      ],
      "metadata": {
        "colab": {
          "base_uri": "https://localhost:8080/"
        },
        "id": "ztVhdVGszZwb",
        "outputId": "a1e3e499-31db-4934-89f6-15cc91a979e0"
      },
      "execution_count": 20,
      "outputs": [
        {
          "output_type": "stream",
          "name": "stdout",
          "text": [
            "3\n"
          ]
        }
      ]
    },
    {
      "cell_type": "markdown",
      "source": [
        "# Modulus (%)\n",
        "\n",
        "Returns the remainder of the division of the first value by the second value.\n",
        "\n",
        "**Syntax:** a % b"
      ],
      "metadata": {
        "id": "Q4c7krTMzdgs"
      }
    },
    {
      "cell_type": "code",
      "source": [
        "x = 10\n",
        "y = 3\n",
        "result = x % y\n",
        "print(result)  # Output: 1"
      ],
      "metadata": {
        "colab": {
          "base_uri": "https://localhost:8080/"
        },
        "id": "3uA4QO3UzeEB",
        "outputId": "9605188e-660e-435d-b711-e62b47a6edf9"
      },
      "execution_count": 21,
      "outputs": [
        {
          "output_type": "stream",
          "name": "stdout",
          "text": [
            "1\n"
          ]
        }
      ]
    },
    {
      "cell_type": "markdown",
      "source": [
        "# Exponentiation (**)\n",
        "\n",
        "Raises the first value to the power of the second value.\n",
        "\n",
        "**Syntax:** a ** b"
      ],
      "metadata": {
        "id": "drmE9K7-zoiG"
      }
    },
    {
      "cell_type": "code",
      "source": [
        "x = 2\n",
        "y = 3\n",
        "result = x ** y\n",
        "print(result)  # Output: 8"
      ],
      "metadata": {
        "colab": {
          "base_uri": "https://localhost:8080/"
        },
        "id": "jtjZOaBezn1c",
        "outputId": "72c7938f-5cd7-4a9f-a960-ce947aa519f1"
      },
      "execution_count": 22,
      "outputs": [
        {
          "output_type": "stream",
          "name": "stdout",
          "text": [
            "8\n"
          ]
        }
      ]
    },
    {
      "cell_type": "markdown",
      "source": [
        "# **The round() Function in Python**\n",
        "\n",
        "The round() function is used to round a floating-point number to a specified number of decimal places. It can also round to the nearest integer if no number of decimal places is provided.\n",
        "\n",
        "**Syntax:** round(number, ndigits)\n",
        "\n",
        "**number:** The number you want to round.\n",
        "\n",
        "**ndigits (optional):** The number of decimal places to round to. If omitted, the function rounds to the nearest integer."
      ],
      "metadata": {
        "id": "ZXhB0hay1Uox"
      }
    },
    {
      "cell_type": "markdown",
      "source": [
        "# Rounding to a Specific Number of Decimal Places"
      ],
      "metadata": {
        "id": "Js8erVG61hqx"
      }
    },
    {
      "cell_type": "code",
      "source": [
        "# Round to 2 Decimal Places\n",
        "\n",
        "num = 3.14159\n",
        "rounded_num = round(num, 2)\n",
        "print(rounded_num)  # Output: 3.14"
      ],
      "metadata": {
        "colab": {
          "base_uri": "https://localhost:8080/"
        },
        "id": "LPPfPdzyzuX1",
        "outputId": "3a2a85c1-93e0-47e4-9dc4-365f511800de"
      },
      "execution_count": 23,
      "outputs": [
        {
          "output_type": "stream",
          "name": "stdout",
          "text": [
            "3.14\n"
          ]
        }
      ]
    },
    {
      "cell_type": "code",
      "source": [
        "# Round to 1 Decimal Place\n",
        "\n",
        "num = 5.678\n",
        "rounded_num = round(num, 1)\n",
        "print(rounded_num)  # Output: 5.7"
      ],
      "metadata": {
        "colab": {
          "base_uri": "https://localhost:8080/"
        },
        "id": "loMwbqsp1mMw",
        "outputId": "935d3071-1628-40be-d37b-2ce45a5ecaf3"
      },
      "execution_count": 24,
      "outputs": [
        {
          "output_type": "stream",
          "name": "stdout",
          "text": [
            "5.7\n"
          ]
        }
      ]
    },
    {
      "cell_type": "markdown",
      "source": [
        "# Rounding to the Nearest Integer"
      ],
      "metadata": {
        "id": "Q8HSOg4B1uBg"
      }
    },
    {
      "cell_type": "code",
      "source": [
        "# If the ndigits parameter is not specified, the function rounds to the nearest integer\n",
        "num = 7.8\n",
        "rounded_num = round(num)\n",
        "print(rounded_num)  # Output: 8"
      ],
      "metadata": {
        "colab": {
          "base_uri": "https://localhost:8080/"
        },
        "id": "orynilqd1qr4",
        "outputId": "4e6ccac5-a455-4a57-b840-3dffd758e1b5"
      },
      "execution_count": 25,
      "outputs": [
        {
          "output_type": "stream",
          "name": "stdout",
          "text": [
            "8\n"
          ]
        }
      ]
    },
    {
      "cell_type": "markdown",
      "source": [
        "# Rounding Halfway Cases\n",
        "When rounding halfway cases (e.g., 2.5), Python uses \"round half to even\" (also known as \"bankers' rounding\"), which rounds to the nearest even number."
      ],
      "metadata": {
        "id": "m4JvJfWx14Ps"
      }
    },
    {
      "cell_type": "code",
      "source": [
        "# Halfway Case\n",
        "num = 2.5\n",
        "rounded_num = round(num)\n",
        "print(rounded_num)  # Output: 2"
      ],
      "metadata": {
        "colab": {
          "base_uri": "https://localhost:8080/"
        },
        "id": "FXlTbAaM10Wb",
        "outputId": "72e1c3c1-7188-4dba-9198-245624bdf5e2"
      },
      "execution_count": 27,
      "outputs": [
        {
          "output_type": "stream",
          "name": "stdout",
          "text": [
            "2\n"
          ]
        }
      ]
    },
    {
      "cell_type": "markdown",
      "source": [
        "# **Assignment Operators and Shorthand in Python**\n",
        "\n",
        "**Assignment Operators**\n",
        "\n",
        "Assignment operators are used to assign values to variables. The basic assignment operator is =.\n",
        "\n",
        "**Basic Assignment**\n",
        "\n",
        "**Syntax:** variable = value"
      ],
      "metadata": {
        "id": "O0BQiS0Q2cs6"
      }
    },
    {
      "cell_type": "code",
      "source": [
        "x = 10\n",
        "name = \"Alice\""
      ],
      "metadata": {
        "id": "aQNngBX819q7"
      },
      "execution_count": 28,
      "outputs": []
    },
    {
      "cell_type": "markdown",
      "source": [
        "# **Shorthand Assignment Operators**\n",
        "\n",
        "Shorthand assignment operators combine an arithmetic operation with an assignment. They provide a concise way to update the value of a variable.\n",
        "\n",
        "+= for addition\n",
        "\n",
        "-= for subtraction\n",
        "\n",
        "*= for multiplication\n",
        "\n",
        "/= for division\n",
        "\n",
        "//= for floor division\n",
        "\n",
        "%= for modulus\n",
        "\n",
        "**= for exponentiation"
      ],
      "metadata": {
        "id": "4NvFxMnR2z8e"
      }
    },
    {
      "cell_type": "markdown",
      "source": [
        "# Addition Assignment (+=)\n",
        "**Syntax:** variable += value\n",
        "\n",
        "Adds the value to the variable and assigns the result to the variable."
      ],
      "metadata": {
        "id": "hzKgirmU3Ksh"
      }
    },
    {
      "cell_type": "code",
      "source": [
        "x = 10\n",
        "x += 5\n",
        "print(x)  # Output: 15"
      ],
      "metadata": {
        "colab": {
          "base_uri": "https://localhost:8080/"
        },
        "id": "kWzDIZq22xrj",
        "outputId": "9458cc8a-9050-4a47-8e99-aedcdf55f1fc"
      },
      "execution_count": 29,
      "outputs": [
        {
          "output_type": "stream",
          "name": "stdout",
          "text": [
            "15\n"
          ]
        }
      ]
    },
    {
      "cell_type": "markdown",
      "source": [
        "# Subtraction Assignment (-=)\n",
        "**Syntax:** variable -= value\n",
        "\n",
        "Subtracts the value from the variable and assigns the result to the variable."
      ],
      "metadata": {
        "id": "qsMz_aOW3LgY"
      }
    },
    {
      "cell_type": "code",
      "source": [
        "x = 10\n",
        "x -= 3\n",
        "print(x)  # Output: 7"
      ],
      "metadata": {
        "colab": {
          "base_uri": "https://localhost:8080/"
        },
        "id": "EDATcIT93MPU",
        "outputId": "6fae8702-4514-4cf5-f942-2a09843f514c"
      },
      "execution_count": 30,
      "outputs": [
        {
          "output_type": "stream",
          "name": "stdout",
          "text": [
            "7\n"
          ]
        }
      ]
    },
    {
      "cell_type": "markdown",
      "source": [
        "# Multiplication Assignment (*=)\n",
        "**Syntax:** variable *= value\n",
        "\n",
        "Multiplies the variable by the value and assigns the result to the variable."
      ],
      "metadata": {
        "id": "aSqBIXej3MwS"
      }
    },
    {
      "cell_type": "code",
      "source": [
        "x = 10\n",
        "x *= 4\n",
        "print(x)  # Output: 40"
      ],
      "metadata": {
        "colab": {
          "base_uri": "https://localhost:8080/"
        },
        "id": "EKdyDrnn3NKu",
        "outputId": "1ad37edc-f18f-4380-dab5-8ce2e256b429"
      },
      "execution_count": 31,
      "outputs": [
        {
          "output_type": "stream",
          "name": "stdout",
          "text": [
            "40\n"
          ]
        }
      ]
    },
    {
      "cell_type": "markdown",
      "source": [
        "# Division Assignment (/=)\n",
        "**Syntax:** variable /= value\n",
        "\n",
        "Divides the variable by the value and assigns the result to the variable. The result is always a floating-point number."
      ],
      "metadata": {
        "id": "zpbQS-Wd39Wi"
      }
    },
    {
      "cell_type": "code",
      "source": [
        "x = 10\n",
        "x /= 2\n",
        "print(x)  # Output: 5.0"
      ],
      "metadata": {
        "colab": {
          "base_uri": "https://localhost:8080/"
        },
        "id": "F_q1TYij35rj",
        "outputId": "57b4eb0b-264a-4233-92da-ad7ee26d987d"
      },
      "execution_count": 32,
      "outputs": [
        {
          "output_type": "stream",
          "name": "stdout",
          "text": [
            "5.0\n"
          ]
        }
      ]
    },
    {
      "cell_type": "markdown",
      "source": [
        "# Floor Division Assignment (//=)\n",
        "**Syntax:** variable //= value\n",
        "\n",
        "Performs floor division (integer division) and assigns the result to the variable.\n"
      ],
      "metadata": {
        "id": "n-k_nRYy4EMx"
      }
    },
    {
      "cell_type": "code",
      "source": [
        "x = 10\n",
        "x //= 3\n",
        "print(x)  # Output: 3"
      ],
      "metadata": {
        "colab": {
          "base_uri": "https://localhost:8080/"
        },
        "id": "HzxQiqu94A6x",
        "outputId": "da4b9e16-abd2-470a-f8c3-8c936dd1511e"
      },
      "execution_count": 33,
      "outputs": [
        {
          "output_type": "stream",
          "name": "stdout",
          "text": [
            "3\n"
          ]
        }
      ]
    },
    {
      "cell_type": "markdown",
      "source": [
        "# Modulus Assignment (%=)\n",
        "**Syntax:** variable %= value\n",
        "\n",
        "Takes the modulus of the variable with the value and assigns the result to the variable."
      ],
      "metadata": {
        "id": "_hheOfP_4E5A"
      }
    },
    {
      "cell_type": "code",
      "source": [
        "x = 10\n",
        "x %= 4\n",
        "print(x)  # Output: 2"
      ],
      "metadata": {
        "colab": {
          "base_uri": "https://localhost:8080/"
        },
        "id": "mBXfamLz4FXo",
        "outputId": "44e11ab8-9abb-4bc6-dfaa-ddff0360de65"
      },
      "execution_count": 34,
      "outputs": [
        {
          "output_type": "stream",
          "name": "stdout",
          "text": [
            "2\n"
          ]
        }
      ]
    },
    {
      "cell_type": "markdown",
      "source": [
        "# Exponentiation Assignment (**=)\n",
        "**Syntax:** variable **= value\n",
        "\n",
        "Raises the variable to the power of the value and assigns the result to the variable.\n"
      ],
      "metadata": {
        "id": "vlt9QV3r4Fxt"
      }
    },
    {
      "cell_type": "code",
      "source": [
        "x = 2\n",
        "x **= 3\n",
        "print(x)  # Output: 8"
      ],
      "metadata": {
        "colab": {
          "base_uri": "https://localhost:8080/"
        },
        "id": "csNath7Y4GHo",
        "outputId": "de2bf681-d05f-4f5c-b6ba-3a5abe2541fc"
      },
      "execution_count": 35,
      "outputs": [
        {
          "output_type": "stream",
          "name": "stdout",
          "text": [
            "8\n"
          ]
        }
      ]
    },
    {
      "cell_type": "markdown",
      "source": [
        "# **F-Strings in Python**\n",
        "\n",
        "F-strings, introduced in Python 3.6, provide a way to embed expressions inside string literals for formatted string interpolation. They are a more concise and readable alternative to the older str.format() method and the % operator.\n",
        "\n",
        "**Syntax**\n",
        "\n",
        "F-strings are created by prefixing a string literal with the letter f or F. Expressions inside curly braces {} are evaluated at runtime and formatted using the specified format.\n",
        "\n",
        "**Syntax:** f\"Your string {expression}\"\n",
        "\n",
        "# Basic Usage\n",
        "1. Embedding Variables\n",
        "2. Expressions Inside F-Strings\n",
        "3. Calling Functions Inside F-Strings"
      ],
      "metadata": {
        "id": "m_ZaoFNv4o5X"
      }
    },
    {
      "cell_type": "code",
      "source": [
        "# Embedding Variables\n",
        "\n",
        "name = \"Alice\"\n",
        "age = 30\n",
        "greeting = f\"Hello, my name is {name} and I am {age} years old.\"\n",
        "print(greeting)  # Output: Hello, my name is Alice and I am 30 years old."
      ],
      "metadata": {
        "colab": {
          "base_uri": "https://localhost:8080/"
        },
        "id": "Jbs_hRoM4XkC",
        "outputId": "56f2c74f-0ea3-4359-81ba-f330d6ac777a"
      },
      "execution_count": 36,
      "outputs": [
        {
          "output_type": "stream",
          "name": "stdout",
          "text": [
            "Hello, my name is Alice and I am 30 years old.\n"
          ]
        }
      ]
    },
    {
      "cell_type": "code",
      "source": [
        "# Expressions Inside F-Strings\n",
        "a = 5\n",
        "b = 10\n",
        "result = f\"The sum of {a} and {b} is {a + b}.\"\n",
        "print(result)  # Output: The sum of 5 and 10 is 15.\n"
      ],
      "metadata": {
        "colab": {
          "base_uri": "https://localhost:8080/"
        },
        "id": "id-mZMZZ45_v",
        "outputId": "8493f52b-3110-4def-ae0b-587af85843c4"
      },
      "execution_count": 37,
      "outputs": [
        {
          "output_type": "stream",
          "name": "stdout",
          "text": [
            "The sum of 5 and 10 is 15.\n"
          ]
        }
      ]
    },
    {
      "cell_type": "code",
      "source": [
        "# Calling Functions Inside F-Strings\n",
        "def greet(name):\n",
        "    return f\"Hello, {name}!\"\n",
        "\n",
        "name = \"Bob\"\n",
        "message = f\"{greet(name)} How are you today?\"\n",
        "print(message)  # Output: Hello, Bob! How are you today?\n"
      ],
      "metadata": {
        "colab": {
          "base_uri": "https://localhost:8080/"
        },
        "id": "ufealvtO4-7v",
        "outputId": "9f3ff96c-2c52-418f-8e0a-485d0db13f24"
      },
      "execution_count": 38,
      "outputs": [
        {
          "output_type": "stream",
          "name": "stdout",
          "text": [
            "Hello, Bob! How are you today?\n"
          ]
        }
      ]
    },
    {
      "cell_type": "markdown",
      "source": [
        "# Formatting with F-Strings\n",
        "F-strings also support various formatting options similar to those used with str.format().\n",
        "\n",
        "1. Decimal Places\n",
        "2. Padding and Alignment\n",
        "3. Number Formatting\n",
        "4. Date Formatting\n",
        "\n",
        "# Advantages of F-Strings\n",
        "**Readability:** More readable and concise compared to other formatting methods.\n",
        "\n",
        "**Performance:** Generally faster than str.format() because expressions are evaluated at runtime directly.\n",
        "\n",
        "**Flexibility:** Allows for direct embedding of expressions and function calls within the string."
      ],
      "metadata": {
        "id": "2A18BWI05GYr"
      }
    },
    {
      "cell_type": "code",
      "source": [
        "# Decimal Places\n",
        "value = 3.14159\n",
        "formatted_value = f\"The value of pi is approximately {value:.2f}.\"\n",
        "print(formatted_value)  # Output: The value of pi is approximately 3.14."
      ],
      "metadata": {
        "colab": {
          "base_uri": "https://localhost:8080/"
        },
        "id": "7nwHpZsj5C5N",
        "outputId": "ab38e518-3ce3-4ad9-a2c5-288f2898e2e2"
      },
      "execution_count": 39,
      "outputs": [
        {
          "output_type": "stream",
          "name": "stdout",
          "text": [
            "The value of pi is approximately 3.14.\n"
          ]
        }
      ]
    },
    {
      "cell_type": "code",
      "source": [
        "# Padding and Alignment\n",
        "\n",
        "number = 42\n",
        "padded_number = f\"{number:10}\"  # Right-aligns with padding\n",
        "print(f\"'{padded_number}'\")  # Output: '        42'\n",
        "\n",
        "left_aligned = f\"{number:<10}\"  # Left-aligns with padding\n",
        "print(f\"'{left_aligned}'\")  # Output: '42"
      ],
      "metadata": {
        "colab": {
          "base_uri": "https://localhost:8080/"
        },
        "id": "5RJEaefS5cip",
        "outputId": "0e472743-6ee0-4d6a-ea96-1fdbbe74a647"
      },
      "execution_count": 40,
      "outputs": [
        {
          "output_type": "stream",
          "name": "stdout",
          "text": [
            "'        42'\n",
            "'42        '\n"
          ]
        }
      ]
    },
    {
      "cell_type": "code",
      "source": [
        "# Number Formatting\n",
        "\n",
        "large_number = 1234567.891\n",
        "formatted_number = f\"{large_number:,}\"  # Includes commas as thousand separators\n",
        "print(formatted_number)  # Output: 1,234,567.891"
      ],
      "metadata": {
        "colab": {
          "base_uri": "https://localhost:8080/"
        },
        "id": "MaAz6gN05fFj",
        "outputId": "de715f5a-2bea-4434-9ab0-e99f93fbd2b6"
      },
      "execution_count": 41,
      "outputs": [
        {
          "output_type": "stream",
          "name": "stdout",
          "text": [
            "1,234,567.891\n"
          ]
        }
      ]
    },
    {
      "cell_type": "code",
      "source": [
        "# Date Formatting\n",
        "\n",
        "from datetime import datetime\n",
        "now = datetime.now()\n",
        "formatted_date = f\"Current date and time: {now:%Y-%m-%d %H:%M:%S}\"\n",
        "print(formatted_date)  # Output: Current date and time: 2024-07-31 15:30:00"
      ],
      "metadata": {
        "colab": {
          "base_uri": "https://localhost:8080/"
        },
        "id": "3hTHBGxc5mtH",
        "outputId": "db226d00-3bf5-401c-ef9d-2508f136791e"
      },
      "execution_count": 42,
      "outputs": [
        {
          "output_type": "stream",
          "name": "stdout",
          "text": [
            "Current date and time: 2024-07-31 17:46:40\n"
          ]
        }
      ]
    }
  ]
}