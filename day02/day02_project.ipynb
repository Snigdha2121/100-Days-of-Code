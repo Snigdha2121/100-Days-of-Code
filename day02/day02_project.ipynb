{
  "nbformat": 4,
  "nbformat_minor": 0,
  "metadata": {
    "colab": {
      "provenance": []
    },
    "kernelspec": {
      "name": "python3",
      "display_name": "Python 3"
    },
    "language_info": {
      "name": "python"
    }
  },
  "cells": [
    {
      "cell_type": "markdown",
      "source": [
        "# **Tip Calculator Project**\n",
        "\n"
      ],
      "metadata": {
        "id": "AHdfrvG-9w5A"
      }
    },
    {
      "cell_type": "markdown",
      "source": [
        "# Project Description\n",
        "\n",
        "This project is designed to help users calculate the amount each person should pay when splitting a bill and adding a tip. The tip calculator will prompt the user to enter the total bill amount, select a tip percentage, and specify the number of people to split the bill with. The calculator will then provide the amount each person should contribute.\n",
        "\n",
        "# Features\n",
        "\n",
        "**Total Bill Input:** Users are prompted to enter the total bill amount in dollars.\n",
        "\n",
        "**Tip Percentage Selection:** Users can choose a tip percentage from predefined options (10%, 12%, or 15%).\n",
        "\n",
        "**Number of People:** Users specify the number of people among whom the bill will be split.\n",
        "\n",
        "**Calculation:** The calculator computes the tip amount and the total amount to be paid per person.\n",
        "\n",
        "**Output:** Displays the amount each person should pay, including the tip.\n",
        "\n",
        "# User Interface\n",
        "**Welcome Message:** \"Welcome to the Tip Calculator!\"\n",
        "\n",
        "**Total Bill Prompt:** \"What was the total bill? $\"\n",
        "\n",
        "**Tip Percentage Prompt:** \"How much tip would you like to give? 10, 12, or 15?\"\n",
        "\n",
        "**Number of People Prompt:** \"How many people to split the bill?\"\n",
        "\n",
        "**Result Output:** \"Each person should pay: $\""
      ],
      "metadata": {
        "id": "pEIxcFTu91fB"
      }
    },
    {
      "cell_type": "code",
      "source": [
        "print(\"Welcome to the Tip Calculator!\")\n",
        "print(\"What was the total bill? Rs.\")\n",
        "bill = float(input())\n",
        "print(\"How much tip would you like to give? 10%, 12%, or 15%?\")\n",
        "tip = int(input())\n",
        "print(\"How many people to split the bill?\")\n",
        "people = int(input())\n",
        "\n",
        "tip_as_percent = tip / 100\n",
        "total_tip_amount = bill * tip_as_percent\n",
        "total_bill = bill + total_tip_amount\n",
        "bill_per_person = total_bill / people\n",
        "\n",
        "print(f\"Each person should pay: Rs. {bill_per_person:.2f}\")"
      ],
      "metadata": {
        "colab": {
          "base_uri": "https://localhost:8080/"
        },
        "id": "vgpxxWG7_BuV",
        "outputId": "a1603620-88c8-49bb-bfc2-d4ad622e086d"
      },
      "execution_count": 7,
      "outputs": [
        {
          "output_type": "stream",
          "name": "stdout",
          "text": [
            "Welcome to the Tip Calculator!\n",
            "What was the total bill? Rs.\n",
            "300\n",
            "How much tip would you like to give? 10%, 12%, or 15%?\n",
            "12\n",
            "How many people to split the bill?\n",
            "2\n",
            "Each person should pay: Rs. 168.00\n"
          ]
        }
      ]
    }
  ]
}