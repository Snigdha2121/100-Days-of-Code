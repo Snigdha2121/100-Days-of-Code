{
  "nbformat": 4,
  "nbformat_minor": 0,
  "metadata": {
    "colab": {
      "provenance": []
    },
    "kernelspec": {
      "name": "python3",
      "display_name": "Python 3"
    },
    "language_info": {
      "name": "python"
    }
  },
  "cells": [
    {
      "cell_type": "markdown",
      "source": [
        "# **Password Generator**\n",
        "\n",
        "#### **Objective:**\n",
        "To create a password generator that allows users to specify the number of uppercase letters, lowercase letters, special characters, and numbers to include in the generated password. The password will be randomized and securely generated based on user input.\n",
        "\n",
        "#### **Project Details:**\n",
        "\n",
        "**1. Password Generator Using String**\n",
        "\n",
        "- **Description:**\n",
        "  - This implementation uses string concatenation to build the password and `random.sample()` to shuffle and randomize the characters.\n",
        "\n"
      ],
      "metadata": {
        "id": "PNUIaUlS0puQ"
      }
    },
    {
      "cell_type": "code",
      "execution_count": null,
      "metadata": {
        "colab": {
          "base_uri": "https://localhost:8080/"
        },
        "id": "NAENmXK6qu2P",
        "outputId": "4c3fc05b-a96e-4666-dce7-d4ae4f7fa836"
      },
      "outputs": [
        {
          "output_type": "stream",
          "name": "stdout",
          "text": [
            "Welcome to the Password Generator \n",
            "\n",
            "How many uppercase letters do you want? \n",
            "2\n",
            "How many lowercase letters do you want? \n",
            "1\n",
            "How many special characters do you want? \n",
            "4\n",
            "How many numbers do you want? \n",
            "2\n",
            "The generated password is:  Q3$y@*6#V\n"
          ]
        }
      ],
      "source": [
        "# Password generator using String\n",
        "\n",
        "import random\n",
        "print(\"Welcome to the Password Generator \\n\")\n",
        "\n",
        "\n",
        "upper_case = ['A', 'B', 'C', 'D', 'E', 'F', 'G', 'H', 'I', 'J', 'K', 'L', 'M', 'N', 'O', 'P', 'Q', 'R', 'S', 'T', 'U', 'V', 'W', 'X', 'Y', 'Z']\n",
        "lower_case = ['a', 'b', 'c', 'd', 'e', 'f', 'g', 'h', 'i', 'j', 'k', 'l', 'm', 'n', 'o', 'p', 'q', 'r', 's', 't', 'u', 'v', 'w', 'x', 'y', 'z']\n",
        "numbers = ['0', '1', '2', '3', '4', '5', '6', '7', '8', '9']\n",
        "special_characters = ['@', '#', '$', '%', '&', '*']\n",
        "\n",
        "upper_len = int(input(\"How many uppercase letters do you want? \\n\"))\n",
        "lower_len = int(input(\"How many lowercase letters do you want? \\n\"))\n",
        "special_len = int(input(\"How many special characters do you want? \\n\"))\n",
        "num_len = int(input(\"How many numbers do you want? \\n\"))\n",
        "\n",
        "password = \"\"\n",
        "\n",
        "for i in range(upper_len):\n",
        "    password += (random.choice(upper_case))\n",
        "\n",
        "\n",
        "for i in range(lower_len):\n",
        "    password += (random.choice(lower_case))\n",
        "\n",
        "for i in range(special_len):\n",
        "    password += (random.choice(special_characters))\n",
        "\n",
        "for i in range(num_len):\n",
        "    password += (random.choice(numbers))\n",
        "\n",
        "result = ''.join(random.sample(password,len(password)))\n",
        "print(\"The generated password is: \", result)\n"
      ]
    },
    {
      "cell_type": "markdown",
      "source": [
        "**2. Password Generator Using List**\n",
        "\n",
        "**Description:**\n",
        "\n",
        "This implementation uses list operations to build and shuffle the password. It appends characters to a list and then shuffles the list before converting it back to a string."
      ],
      "metadata": {
        "id": "pXp7Uv8q1Hy6"
      }
    },
    {
      "cell_type": "code",
      "source": [
        "# Password generator using list\n",
        "\n",
        "import random\n",
        "print(\"Welcome to the Password Generator \\n\")\n",
        "\n",
        "\n",
        "upper_case = ['A', 'B', 'C', 'D', 'E', 'F', 'G', 'H', 'I', 'J', 'K', 'L', 'M', 'N', 'O', 'P', 'Q', 'R', 'S', 'T', 'U', 'V', 'W', 'X', 'Y', 'Z']\n",
        "lower_case = ['a', 'b', 'c', 'd', 'e', 'f', 'g', 'h', 'i', 'j', 'k', 'l', 'm', 'n', 'o', 'p', 'q', 'r', 's', 't', 'u', 'v', 'w', 'x', 'y', 'z']\n",
        "numbers = ['0', '1', '2', '3', '4', '5', '6', '7', '8', '9']\n",
        "special_characters = ['@', '#', '$', '%', '&', '*']\n",
        "\n",
        "upper_len = int(input(\"How many uppercase letters do you want? \\n\"))\n",
        "lower_len = int(input(\"How many lowercase letters do you want? \\n\"))\n",
        "special_len = int(input(\"How many special characters do you want? \\n\"))\n",
        "num_len = int(input(\"How many numbers do you want? \\n\"))\n",
        "\n",
        "password_list = []\n",
        "\n",
        "for i in range(upper_len):\n",
        "    # password_list += (random.choice(upper_case))\n",
        "    # OR\n",
        "    password_list.append(random.choice(upper_case))\n",
        "\n",
        "\n",
        "for i in range(lower_len):\n",
        "    password_list += (random.choice(lower_case))\n",
        "\n",
        "for i in range(special_len):\n",
        "    password_list += (random.choice(special_characters))\n",
        "\n",
        "for i in range(num_len):\n",
        "    password_list += (random.choice(numbers))\n",
        "\n",
        "random.shuffle(password_list)\n",
        "print(\"The generated password as a list: \", password_list)\n",
        "\n",
        "# Converting the list into the string again\n",
        "result = \"\"\n",
        "for char in range(len(password_list)):\n",
        "    result += password_list[char]\n",
        "\n",
        "print(\"The generated password is: \", result)\n",
        "\n",
        "\n",
        "\n",
        "\n"
      ],
      "metadata": {
        "id": "a5YLoH68rrOh",
        "colab": {
          "base_uri": "https://localhost:8080/"
        },
        "outputId": "a9f7f256-ce80-4fa5-bcff-e1431033641d"
      },
      "execution_count": null,
      "outputs": [
        {
          "output_type": "stream",
          "name": "stdout",
          "text": [
            "Welcome to the Password Generator \n",
            "\n",
            "How many uppercase letters do you want? \n",
            "2\n",
            "How many lowercase letters do you want? \n",
            "1\n",
            "How many special characters do you want? \n",
            "4\n",
            "How many numbers do you want? \n",
            "2\n",
            "The generated password is as a list:  ['$', 'U', '#', 'T', '5', '2', 'x', '$', '%']\n",
            "The generated password is:  $U#T52x$%\n"
          ]
        }
      ]
    },
    {
      "cell_type": "code",
      "source": [],
      "metadata": {
        "id": "m0sNtZGBzDcX"
      },
      "execution_count": null,
      "outputs": []
    }
  ]
}