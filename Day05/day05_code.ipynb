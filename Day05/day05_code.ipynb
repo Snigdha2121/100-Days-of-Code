{
  "nbformat": 4,
  "nbformat_minor": 0,
  "metadata": {
    "colab": {
      "provenance": []
    },
    "kernelspec": {
      "name": "python3",
      "display_name": "Python 3"
    },
    "language_info": {
      "name": "python"
    }
  },
  "cells": [
    {
      "cell_type": "markdown",
      "source": [
        "# **Day 5 - Loop**"
      ],
      "metadata": {
        "id": "ZbzLII0WdzDZ"
      }
    },
    {
      "cell_type": "markdown",
      "source": [
        "## **1. Loops: `while` and `for`**\n",
        "\n",
        "**1.1 `while` Loop:**\n",
        "- Executes a block of code as long as the specified condition is `True`.\n",
        "- **Syntax:**\n",
        "  ```\n",
        "  while condition:\n",
        "      # Code block\n",
        "  ```\n",
        "\n",
        "**1.2 `for` Loop:**\n",
        "\n",
        "- Iterates over a sequence (like a list, tuple, or string) and executes a block of code for each item in the sequence.\n",
        "\n",
        "```\n",
        "for item in sequence:\n",
        "    # Code block\n",
        "```\n",
        "\n",
        "## **Key Differences:**\n",
        "\n",
        "- **while loop:** Used when the number of iterations is not known beforehand and depends on a condition.\n",
        "\n",
        "- **for loop:** Used when iterating over a sequence or when the number of iterations is predetermined.\n"
      ],
      "metadata": {
        "id": "z2sm4q0vdvmn"
      }
    },
    {
      "cell_type": "code",
      "source": [
        "# Example of while loop\n",
        "count = 0\n",
        "while count < 5:\n",
        "    print(count)\n",
        "    count += 1"
      ],
      "metadata": {
        "colab": {
          "base_uri": "https://localhost:8080/"
        },
        "id": "miPs1G25lMCs",
        "outputId": "672a409a-8854-42ca-da7f-71d1a16c8fab"
      },
      "execution_count": 1,
      "outputs": [
        {
          "output_type": "stream",
          "name": "stdout",
          "text": [
            "0\n",
            "1\n",
            "2\n",
            "3\n",
            "4\n"
          ]
        }
      ]
    },
    {
      "cell_type": "code",
      "source": [
        "# Example of for loop\n",
        "fruits = [\"apple\", \"banana\", \"cherry\"]\n",
        "for fruit in fruits:\n",
        "    print(fruit)"
      ],
      "metadata": {
        "colab": {
          "base_uri": "https://localhost:8080/"
        },
        "id": "evGXC0wRlSWD",
        "outputId": "6889567c-03fb-46ca-fd83-d5a506f076e2"
      },
      "execution_count": 2,
      "outputs": [
        {
          "output_type": "stream",
          "name": "stdout",
          "text": [
            "apple\n",
            "banana\n",
            "cherry\n"
          ]
        }
      ]
    },
    {
      "cell_type": "code",
      "source": [
        "# Example to find the higest marks in the reportcard\n",
        "marks = [90, 85, 78, 92, 88]\n",
        "highest_marks = 0\n",
        "for mark in marks:\n",
        "    if mark > highest_marks:\n",
        "        highest_marks = mark\n",
        "print(\"The highest marks in the reportcard is:\", highest_marks)"
      ],
      "metadata": {
        "colab": {
          "base_uri": "https://localhost:8080/"
        },
        "id": "rULxqYvVlWBU",
        "outputId": "41f2475c-afe2-4e9c-875a-b585a7bd960f"
      },
      "execution_count": 3,
      "outputs": [
        {
          "output_type": "stream",
          "name": "stdout",
          "text": [
            "The highest marks in the reportcard is: 92\n"
          ]
        }
      ]
    },
    {
      "cell_type": "code",
      "source": [
        "# Example to do the sum of marks in the marksheet\n",
        "marks = [90, 85, 78, 92, 88]\n",
        "total_marks = 0\n",
        "for mark in marks:\n",
        "    total_marks += mark\n",
        "print(\"The total marks in the marksheet is:\", total_marks)"
      ],
      "metadata": {
        "colab": {
          "base_uri": "https://localhost:8080/"
        },
        "id": "ZGn_X5T8l-mg",
        "outputId": "12a17c26-514b-4265-f2de-9088a7d8d76c"
      },
      "execution_count": 4,
      "outputs": [
        {
          "output_type": "stream",
          "name": "stdout",
          "text": [
            "The total marks in the marksheet is: 433\n"
          ]
        }
      ]
    },
    {
      "cell_type": "markdown",
      "source": [
        "## **Function: `range()`**\n",
        "\n",
        "- **Description:**\n",
        "  - The `range()` function generates a sequence of numbers, often used in `for` loops to iterate a specific number of times.\n",
        "\n",
        "- **Syntax:**\n",
        "  ```\n",
        "  range(start, stop, step)\n",
        "```\n",
        "\n",
        "  - **start (optional):** The starting value of the sequence (default is 0).\n",
        "\n",
        "  - **stop:** The value at which the sequence stops (not included in the sequence).\n",
        "\n",
        "  - **step (optional):** The difference between each number in the sequence (default is 1)."
      ],
      "metadata": {
        "id": "Otno80m_mgWm"
      }
    },
    {
      "cell_type": "code",
      "source": [
        "# Example: usage in for Loops\n",
        "for i in range(5):\n",
        "    print(i)"
      ],
      "metadata": {
        "colab": {
          "base_uri": "https://localhost:8080/"
        },
        "id": "miOlryWimFaz",
        "outputId": "fe8ff7bc-3b9b-4799-f6a1-bf89164df38d"
      },
      "execution_count": 5,
      "outputs": [
        {
          "output_type": "stream",
          "name": "stdout",
          "text": [
            "0\n",
            "1\n",
            "2\n",
            "3\n",
            "4\n"
          ]
        }
      ]
    },
    {
      "cell_type": "code",
      "source": [
        "# Example: Converting to List\n",
        "print(list(range(5)))"
      ],
      "metadata": {
        "colab": {
          "base_uri": "https://localhost:8080/"
        },
        "id": "AbrUGa8uoAkK",
        "outputId": "8c822ce5-39e5-4e7e-e781-da32b78005d3"
      },
      "execution_count": 6,
      "outputs": [
        {
          "output_type": "stream",
          "name": "stdout",
          "text": [
            "[0, 1, 2, 3, 4]\n"
          ]
        }
      ]
    },
    {
      "cell_type": "markdown",
      "source": [
        "## **Task 1: Fizzbuzz game**\n",
        "\n",
        "**Description:**\n",
        "\n",
        "The goal is to print numbers from 1 to 100, but with a twist:\n",
        "\n",
        "- Print `\"Fizz\"` for numbers divisible by 3.\n",
        "\n",
        "- Print `\"Buzz\"` for numbers divisible by 5.\n",
        "\n",
        "- Print `\"FizzBuzz\"` for numbers divisible by both 3 and 5.\n",
        "\n",
        "- Print the number itself if it is not divisible by 3 or 5.\n"
      ],
      "metadata": {
        "id": "RlL541uGp5YC"
      }
    },
    {
      "cell_type": "code",
      "source": [
        "for i in range(1, 101):\n",
        "    if i % 3 == 0 and i % 5 == 0:\n",
        "        print(\"FizzBuzz\")\n",
        "    elif i % 3 == 0:\n",
        "        print(\"Fizz\")\n",
        "    elif i % 5 == 0:\n",
        "        print(\"Buzz\")\n",
        "    else:\n",
        "        print(i)\n"
      ],
      "metadata": {
        "colab": {
          "base_uri": "https://localhost:8080/"
        },
        "id": "Pb5_G0BJoGii",
        "outputId": "5ae68526-173b-40f5-f3a1-767a78c71e5a"
      },
      "execution_count": 8,
      "outputs": [
        {
          "output_type": "stream",
          "name": "stdout",
          "text": [
            "1\n",
            "2\n",
            "Fizz\n",
            "4\n",
            "Buzz\n",
            "Fizz\n",
            "7\n",
            "8\n",
            "Fizz\n",
            "Buzz\n",
            "11\n",
            "Fizz\n",
            "13\n",
            "14\n",
            "FizzBuzz\n",
            "16\n",
            "17\n",
            "Fizz\n",
            "19\n",
            "Buzz\n",
            "Fizz\n",
            "22\n",
            "23\n",
            "Fizz\n",
            "Buzz\n",
            "26\n",
            "Fizz\n",
            "28\n",
            "29\n",
            "FizzBuzz\n",
            "31\n",
            "32\n",
            "Fizz\n",
            "34\n",
            "Buzz\n",
            "Fizz\n",
            "37\n",
            "38\n",
            "Fizz\n",
            "Buzz\n",
            "41\n",
            "Fizz\n",
            "43\n",
            "44\n",
            "FizzBuzz\n",
            "46\n",
            "47\n",
            "Fizz\n",
            "49\n",
            "Buzz\n",
            "Fizz\n",
            "52\n",
            "53\n",
            "Fizz\n",
            "Buzz\n",
            "56\n",
            "Fizz\n",
            "58\n",
            "59\n",
            "FizzBuzz\n",
            "61\n",
            "62\n",
            "Fizz\n",
            "64\n",
            "Buzz\n",
            "Fizz\n",
            "67\n",
            "68\n",
            "Fizz\n",
            "Buzz\n",
            "71\n",
            "Fizz\n",
            "73\n",
            "74\n",
            "FizzBuzz\n",
            "76\n",
            "77\n",
            "Fizz\n",
            "79\n",
            "Buzz\n",
            "Fizz\n",
            "82\n",
            "83\n",
            "Fizz\n",
            "Buzz\n",
            "86\n",
            "Fizz\n",
            "88\n",
            "89\n",
            "FizzBuzz\n",
            "91\n",
            "92\n",
            "Fizz\n",
            "94\n",
            "Buzz\n",
            "Fizz\n",
            "97\n",
            "98\n",
            "Fizz\n",
            "Buzz\n"
          ]
        }
      ]
    },
    {
      "cell_type": "code",
      "source": [],
      "metadata": {
        "id": "ANQvNph4qkwh"
      },
      "execution_count": null,
      "outputs": []
    }
  ]
}